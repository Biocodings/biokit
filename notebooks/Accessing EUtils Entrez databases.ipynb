{
 "metadata": {
  "name": "",
  "signature": "sha256:7a2784fc53f76bdf72e6b7fcbba3a71c892e41d51230bf46cd46306d28935b82"
 },
 "nbformat": 3,
 "nbformat_minor": 0,
 "worksheets": [
  {
   "cells": [
    {
     "cell_type": "markdown",
     "metadata": {},
     "source": [
      "Using online database (web resource) is possible in biokit. However, note\n",
      "that we use https://pypi.python.org/pypi/bioservices under the hook.\n",
      "\n",
      "In the example below, we show how to use EUtils service to access to different data\n",
      "sets but you can also access to many more databases amongst which:\n",
      "\n",
      "- uniprot\n",
      "- kegg\n",
      "- ensembl\n",
      "- chembl\n",
      "- and 20 more..."
     ]
    },
    {
     "cell_type": "code",
     "collapsed": false,
     "input": [
      "# referecence: NCBI website\n",
      "%pylab inline\n",
      "from biokit import EUtils"
     ],
     "language": "python",
     "metadata": {},
     "outputs": [
      {
       "output_type": "stream",
       "stream": "stdout",
       "text": [
        "Populating the interactive namespace from numpy and matplotlib\n"
       ]
      }
     ],
     "prompt_number": 6
    },
    {
     "cell_type": "code",
     "collapsed": false,
     "input": [
      "e = EUtils()"
     ],
     "language": "python",
     "metadata": {},
     "outputs": [
      {
       "output_type": "stream",
       "stream": "stderr",
       "text": [
        "INFO:root:Initialising Efetch service (REST)\n"
       ]
      }
     ],
     "prompt_number": 2
    },
    {
     "cell_type": "code",
     "collapsed": false,
     "input": [
      "# access to the EUTils tools is restricted to 3 requests per second in principle. \n",
      "# Your email should be provided in e.email\n",
      "# e.email\n",
      "# or in the bioservices config file in ~/.config/bioservices/bioservices.cfg\n",
      "#[user]\n",
      "#email = yourname@somewhere\n",
      "\n"
     ],
     "language": "python",
     "metadata": {},
     "outputs": [],
     "prompt_number": 3
    },
    {
     "cell_type": "code",
     "collapsed": false,
     "input": [
      "report = e.ESearch('nuccore', term='A/chicken/Hong+Kong/915/97+OR+A/chicken/Hong+Kong/915/1997', usehistory='y')"
     ],
     "language": "python",
     "metadata": {},
     "outputs": [],
     "prompt_number": 4
    },
    {
     "cell_type": "code",
     "collapsed": false,
     "input": [
      "# this information\n",
      "report.WebEnv\n"
     ],
     "language": "python",
     "metadata": {},
     "outputs": [
      {
       "metadata": {},
       "output_type": "pyout",
       "prompt_number": 5,
       "text": [
        "NCID_1_400522333_130.14.22.215_9001_1410768227_324737546_0MetA0_S_MegaStore_F_1"
       ]
      }
     ],
     "prompt_number": 5
    },
    {
     "cell_type": "code",
     "collapsed": false,
     "input": [
      "report.QueryKey"
     ],
     "language": "python",
     "metadata": {},
     "outputs": [
      {
       "metadata": {},
       "output_type": "pyout",
       "prompt_number": 6,
       "text": [
        "1"
       ]
      }
     ],
     "prompt_number": 6
    },
    {
     "cell_type": "code",
     "collapsed": false,
     "input": [
      "import pandas as pd\n",
      "summary = e.ESummary('nuccore', WebEnv=report.WebEnv, query_key=report.QueryKey)\n",
      "len(summary.DocSum)"
     ],
     "language": "python",
     "metadata": {},
     "outputs": [
      {
       "metadata": {},
       "output_type": "pyout",
       "prompt_number": 7,
       "text": [
        "8"
       ]
      }
     ],
     "prompt_number": 7
    },
    {
     "cell_type": "code",
     "collapsed": false,
     "input": [
      "[x.Id  for x in summary.DocSum]"
     ],
     "language": "python",
     "metadata": {},
     "outputs": [
      {
       "metadata": {},
       "output_type": "pyout",
       "prompt_number": 9,
       "text": [
        "[6048802, 6048927, 6048903, 6048875, 6048849, 6048829, 6048770, 3421265]"
       ]
      }
     ],
     "prompt_number": 9
    },
    {
     "cell_type": "code",
     "collapsed": false,
     "input": [
      "# here you need a little bit of introspection but can easily obtain the accessions, descriptions, ids\n",
      "accession = [s.Item[0].ItemContent for s in summary.DocSum]\n",
      "description = [s.Item[1].ItemContent for s in summary.DocSum]\n",
      "id_ = [s.Item[2].ItemContent for s in summary.DocSum]\n",
      "link = [s.Item[3].ItemContent for s in summary.DocSum]\n",
      "\n",
      "\n",
      "pd.DataFrame({'accession':accession, 'description': description, 'ids':id_,'link':link})\n",
      "    "
     ],
     "language": "python",
     "metadata": {},
     "outputs": [
      {
       "html": [
        "<div style=\"max-height:1000px;max-width:1500px;overflow:auto;\">\n",
        "<table border=\"1\" class=\"dataframe\">\n",
        "  <thead>\n",
        "    <tr style=\"text-align: right;\">\n",
        "      <th></th>\n",
        "      <th>accession</th>\n",
        "      <th>description</th>\n",
        "      <th>ids</th>\n",
        "      <th>link</th>\n",
        "    </tr>\n",
        "  </thead>\n",
        "  <tbody>\n",
        "    <tr>\n",
        "      <th>0</th>\n",
        "      <td> AF098564</td>\n",
        "      <td> Influenza A virus (A/Chicken/Hong Kong/915/97 ...</td>\n",
        "      <td> gi|6048802|gb|AF098564.1|[6048802]</td>\n",
        "      <td> 6048802</td>\n",
        "    </tr>\n",
        "    <tr>\n",
        "      <th>1</th>\n",
        "      <td> AF098620</td>\n",
        "      <td> Influenza A virus (A/Chicken/Hong Kong/915/97 ...</td>\n",
        "      <td> gi|6048927|gb|AF098620.1|[6048927]</td>\n",
        "      <td> 6048927</td>\n",
        "    </tr>\n",
        "    <tr>\n",
        "      <th>2</th>\n",
        "      <td> AF098608</td>\n",
        "      <td> Influenza A virus (A/Chicken/Hong Kong/915/97 ...</td>\n",
        "      <td> gi|6048903|gb|AF098608.1|[6048903]</td>\n",
        "      <td> 6048903</td>\n",
        "    </tr>\n",
        "    <tr>\n",
        "      <th>3</th>\n",
        "      <td> AF098594</td>\n",
        "      <td> Influenza A virus (A/Chicken/Hong Kong/915/97 ...</td>\n",
        "      <td> gi|6048875|gb|AF098594.1|[6048875]</td>\n",
        "      <td> 6048875</td>\n",
        "    </tr>\n",
        "    <tr>\n",
        "      <th>4</th>\n",
        "      <td> AF098581</td>\n",
        "      <td> Influenza A virus (A/Chicken/Hong Kong/915/97 ...</td>\n",
        "      <td> gi|6048849|gb|AF098581.1|[6048849]</td>\n",
        "      <td> 6048849</td>\n",
        "    </tr>\n",
        "    <tr>\n",
        "      <th>5</th>\n",
        "      <td> AF098573</td>\n",
        "      <td> Influenza A virus (A/Chicken/Hong Kong/915/97 ...</td>\n",
        "      <td> gi|6048829|gb|AF098573.1|[6048829]</td>\n",
        "      <td> 6048829</td>\n",
        "    </tr>\n",
        "    <tr>\n",
        "      <th>6</th>\n",
        "      <td> AF098550</td>\n",
        "      <td> Influenza A virus (A/Chicken/Hong Kong/915/97 ...</td>\n",
        "      <td> gi|6048770|gb|AF098550.1|[6048770]</td>\n",
        "      <td> 6048770</td>\n",
        "    </tr>\n",
        "    <tr>\n",
        "      <th>7</th>\n",
        "      <td> AF046100</td>\n",
        "      <td> Influenza A virus (A/chicken/Hong Kong/915/199...</td>\n",
        "      <td> gi|3421265|gb|AF046100.1|[3421265]</td>\n",
        "      <td> 3421265</td>\n",
        "    </tr>\n",
        "  </tbody>\n",
        "</table>\n",
        "<p>8 rows \u00d7 4 columns</p>\n",
        "</div>"
       ],
       "metadata": {},
       "output_type": "pyout",
       "prompt_number": 10,
       "text": [
        "  accession                                        description  \\\n",
        "0  AF098564  Influenza A virus (A/Chicken/Hong Kong/915/97 ...   \n",
        "1  AF098620  Influenza A virus (A/Chicken/Hong Kong/915/97 ...   \n",
        "2  AF098608  Influenza A virus (A/Chicken/Hong Kong/915/97 ...   \n",
        "3  AF098594  Influenza A virus (A/Chicken/Hong Kong/915/97 ...   \n",
        "4  AF098581  Influenza A virus (A/Chicken/Hong Kong/915/97 ...   \n",
        "5  AF098573  Influenza A virus (A/Chicken/Hong Kong/915/97 ...   \n",
        "6  AF098550  Influenza A virus (A/Chicken/Hong Kong/915/97 ...   \n",
        "7  AF046100  Influenza A virus (A/chicken/Hong Kong/915/199...   \n",
        "\n",
        "                                  ids     link  \n",
        "0  gi|6048802|gb|AF098564.1|[6048802]  6048802  \n",
        "1  gi|6048927|gb|AF098620.1|[6048927]  6048927  \n",
        "2  gi|6048903|gb|AF098608.1|[6048903]  6048903  \n",
        "3  gi|6048875|gb|AF098594.1|[6048875]  6048875  \n",
        "4  gi|6048849|gb|AF098581.1|[6048849]  6048849  \n",
        "5  gi|6048829|gb|AF098573.1|[6048829]  6048829  \n",
        "6  gi|6048770|gb|AF098550.1|[6048770]  6048770  \n",
        "7  gi|3421265|gb|AF046100.1|[3421265]  3421265  \n",
        "\n",
        "[8 rows x 4 columns]"
       ]
      }
     ],
     "prompt_number": 10
    },
    {
     "cell_type": "code",
     "collapsed": false,
     "input": [
      "sequence = e.EFetch('nuccore', rettpye='gb', retmode='text', WebEnv=report.WebEnv, query_key=report.QueryKey)"
     ],
     "language": "python",
     "metadata": {},
     "outputs": [
      {
       "output_type": "stream",
       "stream": "stderr",
       "text": [
        "INFO:requests.packages.urllib3.connectionpool:Starting new HTTP connection (1): eutils.ncbi.nlm.nih.gov\n"
       ]
      }
     ],
     "prompt_number": 11
    },
    {
     "cell_type": "markdown",
     "metadata": {},
     "source": [
      "### Using EGQuery to get H5N1 Related-Records in Entrez\n",
      "\n",
      "To see what other Entrez databases contain information about the H5N1 virus, use EGQuery. EGQuery performs a text search across all available Entrez databases and returns the number of hits in each. EGQuery accepts any valid Entrez text query as input through the term parameter."
     ]
    },
    {
     "cell_type": "code",
     "collapsed": false,
     "input": [
      "results = e.EGQuery(\"H5N1 virus\")"
     ],
     "language": "python",
     "metadata": {},
     "outputs": [],
     "prompt_number": 12
    },
    {
     "cell_type": "code",
     "collapsed": false,
     "input": [
      "data = [x.Count for x in results.eGQueryResult[0] if int(x.Count)>0]\n",
      "index = [x.DbName for x in results.eGQueryResult[0] if int(x.Count)>0]\n"
     ],
     "language": "python",
     "metadata": {},
     "outputs": [],
     "prompt_number": 13
    },
    {
     "cell_type": "code",
     "collapsed": false,
     "input": [
      "df = pd.DataFrame(data=data, index=index, dtype=float)  # note the cast into floats\n",
      "df.sort(columns=0, ascending=True, inplace=True)\n",
      "\n",
      "_ = log10(df).plot(kind='barh', legend=False, logx=True, \n",
      "            title=\"Number of H5N1 entries in each database\")"
     ],
     "language": "python",
     "metadata": {},
     "outputs": [
      {
       "metadata": {},
       "output_type": "display_data",
       "png": "[encoded data removed]",
       "text": [
        "<matplotlib.figure.Figure at 0x4dcf710>"
       ]
      }
     ],
     "prompt_number": 14
    },
    {
     "cell_type": "code",
     "collapsed": false,
     "input": [],
     "language": "python",
     "metadata": {},
     "outputs": []
    }
   ],
   "metadata": {}
  }
 ]
}