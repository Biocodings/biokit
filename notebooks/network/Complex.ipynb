{
 "cells": [
  {
   "cell_type": "markdown",
   "metadata": {},
   "source": [
    "# Identifying Complexes in your Network of Protein-Protein Interactions\n"
   ]
  },
  {
   "cell_type": "markdown",
   "metadata": {},
   "source": [
    "**Contact: **\n",
    "\n",
    "-   http://github.com/cokelaer\n",
    "-   http://thomas-cokelaer.info\n",
    "\n",
    "**Date:** Feb 2015"
   ]
  },
  {
   "cell_type": "markdown",
   "metadata": {},
   "source": [
    "## Introduction\n",
    "\n",
    "The assumption is that you have a network of protein-protein interactions, from which you know the protein names by their\n",
    "uniprot accession number (e.g., P43403)\n",
    "\n",
    "You can have for instance a network in various formats (e.g., SIF, SBSMLQual), in which case you may be interested to \n",
    "look at http://github.com/cellnopt/cellnopt . The SBMLqual format encodes network of proteins as logical gates (ORs and ANDs). One issue is how to you know thata logical gate is an AND. You can try all combinations and optimise the network to some data like in CellNOpt analysis. Another way is to use databases of complexes to identify such AND gates. \n",
    "\n",
    "Here below, we use the **Complexes** class that will take as input a list of UniProt identifiers and return possible logical AND gates. The database used being the scene is **Intact Complex. **"
   ]
  },
  {
   "cell_type": "markdown",
   "metadata": {},
   "source": [
    "First we import the module of interest to be found in biokit.networt.complexes"
   ]
  },
  {
   "cell_type": "code",
   "execution_count": 1,
   "metadata": {},
   "outputs": [
    {
     "name": "stdout",
     "output_type": "stream",
     "text": [
      "Populating the interactive namespace from numpy and matplotlib\n"
     ]
    }
   ],
   "source": [
    "import biokit\n",
    "%pylab inline"
   ]
  },
  {
   "cell_type": "code",
   "execution_count": 2,
   "metadata": {},
   "outputs": [],
   "source": [
    "from biokit.network import complexes"
   ]
  },
  {
   "cell_type": "markdown",
   "metadata": {},
   "source": [
    "We create an instance setting the cache to True. This is an option fro BioServices that create a\n",
    "local file to speed up future requests. You can set it to False if you do not want to create local\n",
    "cache files. The code will take about 30 seconds to run. If you use the cache, next time it will take half a second.\n"
   ]
  },
  {
   "cell_type": "code",
   "execution_count": 18,
   "metadata": {},
   "outputs": [
    {
     "name": "stderr",
     "output_type": "stream",
     "text": [
      "INFO:root:Initialising IntactComplex service (REST)\n",
      "INFO:root:Using local cache /home/cokelaer/.config/bioservices/IntactComplex_bioservices_db\n"
     ]
    },
    {
     "name": "stdout",
     "output_type": "stream",
     "text": [
      "Organism not set yet. \n"
     ]
    }
   ],
   "source": [
    "c = complexes.Complexes(cache=True)"
   ]
  },
  {
   "cell_type": "markdown",
   "metadata": {},
   "source": [
    "By default the organism selected is *Homo sapiens*. Complexes for the Intact Complex database are not stored internally.\n",
    "As an example, you can plot the histogram of number of participants (protein) within each complexes "
   ]
  },
  {
   "cell_type": "code",
   "execution_count": 19,
   "metadata": {},
   "outputs": [
    {
     "data": {
      "text/html": [
       "\n",
       "            <div style=\"float: left; border: 1px solid black; width:500px\">\n",
       "              <div id=\"7e18aa89-7039-47ae-949a-37ea7ace94ec\" style=\"background-color:blue; width:0%\">&nbsp;</div>\n",
       "            </div>\n",
       "            <label id=\"be9ffa6b-6f7d-43cc-a4be-02343637f7c1\" style=\"padding-left: 10px;\" text = \"\"/>\n",
       "            "
      ],
      "text/plain": [
       "<IPython.core.display.HTML object>"
      ]
     },
     "metadata": {},
     "output_type": "display_data"
    },
    {
     "name": "stderr",
     "output_type": "stream",
     "text": [
      "INFO:root:Loading all details from the IntactComplex database\n"
     ]
    },
    {
     "data": {
      "application/javascript": [
       "$('div#7e18aa89-7039-47ae-949a-37ea7ace94ec').width('0%')"
      ],
      "text/plain": [
       "<IPython.core.display.Javascript object>"
      ]
     },
     "metadata": {},
     "output_type": "display_data"
    },
    {
     "data": {
      "application/javascript": [
       "$('label#be9ffa6b-6f7d-43cc-a4be-02343637f7c1').text('0% in 0.1 sec')"
      ],
      "text/plain": [
       "<IPython.core.display.Javascript object>"
      ]
     },
     "metadata": {},
     "output_type": "display_data"
    },
    {
     "data": {
      "application/javascript": [
       "$('div#7e18aa89-7039-47ae-949a-37ea7ace94ec').width('1%')"
      ],
      "text/plain": [
       "<IPython.core.display.Javascript object>"
      ]
     },
     "metadata": {},
     "output_type": "display_data"
    },
    {
     "data": {
      "application/javascript": [
       "$('label#be9ffa6b-6f7d-43cc-a4be-02343637f7c1').text('1% in 0.2 sec')"
      ],
      "text/plain": [
       "<IPython.core.display.Javascript object>"
      ]
     },
     "metadata": {},
     "output_type": "display_data"
    },
    {
     "data": {
      "application/javascript": [
       "$('div#7e18aa89-7039-47ae-949a-37ea7ace94ec').width('2%')"
      ],
      "text/plain": [
       "<IPython.core.display.Javascript object>"
      ]
     },
     "metadata": {},
     "output_type": "display_data"
    },
    {
     "data": {
      "application/javascript": [
       "$('label#be9ffa6b-6f7d-43cc-a4be-02343637f7c1').text('2% in 0.2 sec')"
      ],
      "text/plain": [
       "<IPython.core.display.Javascript object>"
      ]
     },
     "metadata": {},
     "output_type": "display_data"
    },
    {
     "data": {
      "application/javascript": [
       "$('div#7e18aa89-7039-47ae-949a-37ea7ace94ec').width('3%')"
      ],
      "text/plain": [
       "<IPython.core.display.Javascript object>"
      ]
     },
     "metadata": {},
     "output_type": "display_data"
    },
    {
     "data": {
      "application/javascript": [
       "$('label#be9ffa6b-6f7d-43cc-a4be-02343637f7c1').text('3% in 0.2 sec')"
      ],
      "text/plain": [
       "<IPython.core.display.Javascript object>"
      ]
     },
     "metadata": {},
     "output_type": "display_data"
    },
    {
     "data": {
      "application/javascript": [
       "$('div#7e18aa89-7039-47ae-949a-37ea7ace94ec').width('4%')"
      ],
      "text/plain": [
       "<IPython.core.display.Javascript object>"
      ]
     },
     "metadata": {},
     "output_type": "display_data"
    },
    {
     "data": {
      "application/javascript": [
       "$('label#be9ffa6b-6f7d-43cc-a4be-02343637f7c1').text('4% in 0.2 sec')"
      ],
      "text/plain": [
       "<IPython.core.display.Javascript object>"
      ]
     },
     "metadata": {},
     "output_type": "display_data"
    },
    {
     "data": {
      "application/javascript": [
       "$('div#7e18aa89-7039-47ae-949a-37ea7ace94ec').width('5%')"
      ],
      "text/plain": [
       "<IPython.core.display.Javascript object>"
      ]
     },
     "metadata": {},
     "output_type": "display_data"
    },
    {
     "data": {
      "application/javascript": [
       "$('label#be9ffa6b-6f7d-43cc-a4be-02343637f7c1').text('5% in 0.3 sec')"
      ],
      "text/plain": [
       "<IPython.core.display.Javascript object>"
      ]
     },
     "metadata": {},
     "output_type": "display_data"
    },
    {
     "data": {
      "application/javascript": [
       "$('div#7e18aa89-7039-47ae-949a-37ea7ace94ec').width('6%')"
      ],
      "text/plain": [
       "<IPython.core.display.Javascript object>"
      ]
     },
     "metadata": {},
     "output_type": "display_data"
    },
    {
     "data": {
      "application/javascript": [
       "$('label#be9ffa6b-6f7d-43cc-a4be-02343637f7c1').text('6% in 0.3 sec')"
      ],
      "text/plain": [
       "<IPython.core.display.Javascript object>"
      ]
     },
     "metadata": {},
     "output_type": "display_data"
    },
    {
     "data": {
      "application/javascript": [
       "$('div#7e18aa89-7039-47ae-949a-37ea7ace94ec').width('7%')"
      ],
      "text/plain": [
       "<IPython.core.display.Javascript object>"
      ]
     },
     "metadata": {},
     "output_type": "display_data"
    },
    {
     "data": {
      "application/javascript": [
       "$('label#be9ffa6b-6f7d-43cc-a4be-02343637f7c1').text('7% in 0.3 sec')"
      ],
      "text/plain": [
       "<IPython.core.display.Javascript object>"
      ]
     },
     "metadata": {},
     "output_type": "display_data"
    },
    {
     "data": {
      "application/javascript": [
       "$('div#7e18aa89-7039-47ae-949a-37ea7ace94ec').width('8%')"
      ],
      "text/plain": [
       "<IPython.core.display.Javascript object>"
      ]
     },
     "metadata": {},
     "output_type": "display_data"
    },
    {
     "data": {
      "application/javascript": [
       "$('label#be9ffa6b-6f7d-43cc-a4be-02343637f7c1').text('8% in 0.8 sec')"
      ],
      "text/plain": [
       "<IPython.core.display.Javascript object>"
      ]
     },
     "metadata": {},
     "output_type": "display_data"
    },
    {
     "data": {
      "application/javascript": [
       "$('div#7e18aa89-7039-47ae-949a-37ea7ace94ec').width('9%')"
      ],
      "text/plain": [
       "<IPython.core.display.Javascript object>"
      ]
     },
     "metadata": {},
     "output_type": "display_data"
    },
    {
     "data": {
      "application/javascript": [
       "$('label#be9ffa6b-6f7d-43cc-a4be-02343637f7c1').text('9% in 1.0 sec')"
      ],
      "text/plain": [
       "<IPython.core.display.Javascript object>"
      ]
     },
     "metadata": {},
     "output_type": "display_data"
    },
    {
     "data": {
      "application/javascript": [
       "$('div#7e18aa89-7039-47ae-949a-37ea7ace94ec').width('10%')"
      ],
      "text/plain": [
       "<IPython.core.display.Javascript object>"
      ]
     },
     "metadata": {},
     "output_type": "display_data"
    },
    {
     "data": {
      "application/javascript": [
       "$('label#be9ffa6b-6f7d-43cc-a4be-02343637f7c1').text('10% in 1.0 sec')"
      ],
      "text/plain": [
       "<IPython.core.display.Javascript object>"
      ]
     },
     "metadata": {},
     "output_type": "display_data"
    },
    {
     "data": {
      "application/javascript": [
       "$('div#7e18aa89-7039-47ae-949a-37ea7ace94ec').width('11%')"
      ],
      "text/plain": [
       "<IPython.core.display.Javascript object>"
      ]
     },
     "metadata": {},
     "output_type": "display_data"
    },
    {
     "data": {
      "application/javascript": [
       "$('label#be9ffa6b-6f7d-43cc-a4be-02343637f7c1').text('11% in 1.0 sec')"
      ],
      "text/plain": [
       "<IPython.core.display.Javascript object>"
      ]
     },
     "metadata": {},
     "output_type": "display_data"
    },
    {
     "data": {
      "application/javascript": [
       "$('div#7e18aa89-7039-47ae-949a-37ea7ace94ec').width('12%')"
      ],
      "text/plain": [
       "<IPython.core.display.Javascript object>"
      ]
     },
     "metadata": {},
     "output_type": "display_data"
    },
    {
     "data": {
      "application/javascript": [
       "$('label#be9ffa6b-6f7d-43cc-a4be-02343637f7c1').text('12% in 1.1 sec')"
      ],
      "text/plain": [
       "<IPython.core.display.Javascript object>"
      ]
     },
     "metadata": {},
     "output_type": "display_data"
    },
    {
     "data": {
      "application/javascript": [
       "$('div#7e18aa89-7039-47ae-949a-37ea7ace94ec').width('13%')"
      ],
      "text/plain": [
       "<IPython.core.display.Javascript object>"
      ]
     },
     "metadata": {},
     "output_type": "display_data"
    },
    {
     "data": {
      "application/javascript": [
       "$('label#be9ffa6b-6f7d-43cc-a4be-02343637f7c1').text('13% in 1.1 sec')"
      ],
      "text/plain": [
       "<IPython.core.display.Javascript object>"
      ]
     },
     "metadata": {},
     "output_type": "display_data"
    },
    {
     "data": {
      "application/javascript": [
       "$('div#7e18aa89-7039-47ae-949a-37ea7ace94ec').width('14%')"
      ],
      "text/plain": [
       "<IPython.core.display.Javascript object>"
      ]
     },
     "metadata": {},
     "output_type": "display_data"
    },
    {
     "data": {
      "application/javascript": [
       "$('label#be9ffa6b-6f7d-43cc-a4be-02343637f7c1').text('14% in 1.2 sec')"
      ],
      "text/plain": [
       "<IPython.core.display.Javascript object>"
      ]
     },
     "metadata": {},
     "output_type": "display_data"
    },
    {
     "data": {
      "application/javascript": [
       "$('div#7e18aa89-7039-47ae-949a-37ea7ace94ec').width('15%')"
      ],
      "text/plain": [
       "<IPython.core.display.Javascript object>"
      ]
     },
     "metadata": {},
     "output_type": "display_data"
    },
    {
     "data": {
      "application/javascript": [
       "$('label#be9ffa6b-6f7d-43cc-a4be-02343637f7c1').text('15% in 1.2 sec')"
      ],
      "text/plain": [
       "<IPython.core.display.Javascript object>"
      ]
     },
     "metadata": {},
     "output_type": "display_data"
    },
    {
     "data": {
      "application/javascript": [
       "$('div#7e18aa89-7039-47ae-949a-37ea7ace94ec').width('16%')"
      ],
      "text/plain": [
       "<IPython.core.display.Javascript object>"
      ]
     },
     "metadata": {},
     "output_type": "display_data"
    },
    {
     "data": {
      "application/javascript": [
       "$('label#be9ffa6b-6f7d-43cc-a4be-02343637f7c1').text('16% in 1.2 sec')"
      ],
      "text/plain": [
       "<IPython.core.display.Javascript object>"
      ]
     },
     "metadata": {},
     "output_type": "display_data"
    },
    {
     "data": {
      "application/javascript": [
       "$('div#7e18aa89-7039-47ae-949a-37ea7ace94ec').width('17%')"
      ],
      "text/plain": [
       "<IPython.core.display.Javascript object>"
      ]
     },
     "metadata": {},
     "output_type": "display_data"
    },
    {
     "data": {
      "application/javascript": [
       "$('label#be9ffa6b-6f7d-43cc-a4be-02343637f7c1').text('17% in 1.3 sec')"
      ],
      "text/plain": [
       "<IPython.core.display.Javascript object>"
      ]
     },
     "metadata": {},
     "output_type": "display_data"
    },
    {
     "data": {
      "application/javascript": [
       "$('div#7e18aa89-7039-47ae-949a-37ea7ace94ec').width('18%')"
      ],
      "text/plain": [
       "<IPython.core.display.Javascript object>"
      ]
     },
     "metadata": {},
     "output_type": "display_data"
    },
    {
     "data": {
      "application/javascript": [
       "$('label#be9ffa6b-6f7d-43cc-a4be-02343637f7c1').text('18% in 1.3 sec')"
      ],
      "text/plain": [
       "<IPython.core.display.Javascript object>"
      ]
     },
     "metadata": {},
     "output_type": "display_data"
    },
    {
     "data": {
      "application/javascript": [
       "$('div#7e18aa89-7039-47ae-949a-37ea7ace94ec').width('19%')"
      ],
      "text/plain": [
       "<IPython.core.display.Javascript object>"
      ]
     },
     "metadata": {},
     "output_type": "display_data"
    },
    {
     "data": {
      "application/javascript": [
       "$('label#be9ffa6b-6f7d-43cc-a4be-02343637f7c1').text('19% in 1.3 sec')"
      ],
      "text/plain": [
       "<IPython.core.display.Javascript object>"
      ]
     },
     "metadata": {},
     "output_type": "display_data"
    },
    {
     "data": {
      "application/javascript": [
       "$('div#7e18aa89-7039-47ae-949a-37ea7ace94ec').width('20%')"
      ],
      "text/plain": [
       "<IPython.core.display.Javascript object>"
      ]
     },
     "metadata": {},
     "output_type": "display_data"
    },
    {
     "data": {
      "application/javascript": [
       "$('label#be9ffa6b-6f7d-43cc-a4be-02343637f7c1').text('20% in 1.4 sec')"
      ],
      "text/plain": [
       "<IPython.core.display.Javascript object>"
      ]
     },
     "metadata": {},
     "output_type": "display_data"
    },
    {
     "data": {
      "application/javascript": [
       "$('div#7e18aa89-7039-47ae-949a-37ea7ace94ec').width('20%')"
      ],
      "text/plain": [
       "<IPython.core.display.Javascript object>"
      ]
     },
     "metadata": {},
     "output_type": "display_data"
    },
    {
     "data": {
      "application/javascript": [
       "$('label#be9ffa6b-6f7d-43cc-a4be-02343637f7c1').text('20% in 1.4 sec')"
      ],
      "text/plain": [
       "<IPython.core.display.Javascript object>"
      ]
     },
     "metadata": {},
     "output_type": "display_data"
    },
    {
     "data": {
      "application/javascript": [
       "$('div#7e18aa89-7039-47ae-949a-37ea7ace94ec').width('21%')"
      ],
      "text/plain": [
       "<IPython.core.display.Javascript object>"
      ]
     },
     "metadata": {},
     "output_type": "display_data"
    },
    {
     "data": {
      "application/javascript": [
       "$('label#be9ffa6b-6f7d-43cc-a4be-02343637f7c1').text('21% in 1.4 sec')"
      ],
      "text/plain": [
       "<IPython.core.display.Javascript object>"
      ]
     },
     "metadata": {},
     "output_type": "display_data"
    },
    {
     "data": {
      "application/javascript": [
       "$('div#7e18aa89-7039-47ae-949a-37ea7ace94ec').width('22%')"
      ],
      "text/plain": [
       "<IPython.core.display.Javascript object>"
      ]
     },
     "metadata": {},
     "output_type": "display_data"
    },
    {
     "data": {
      "application/javascript": [
       "$('label#be9ffa6b-6f7d-43cc-a4be-02343637f7c1').text('22% in 1.4 sec')"
      ],
      "text/plain": [
       "<IPython.core.display.Javascript object>"
      ]
     },
     "metadata": {},
     "output_type": "display_data"
    },
    {
     "data": {
      "application/javascript": [
       "$('div#7e18aa89-7039-47ae-949a-37ea7ace94ec').width('23%')"
      ],
      "text/plain": [
       "<IPython.core.display.Javascript object>"
      ]
     },
     "metadata": {},
     "output_type": "display_data"
    },
    {
     "data": {
      "application/javascript": [
       "$('label#be9ffa6b-6f7d-43cc-a4be-02343637f7c1').text('23% in 1.5 sec')"
      ],
      "text/plain": [
       "<IPython.core.display.Javascript object>"
      ]
     },
     "metadata": {},
     "output_type": "display_data"
    },
    {
     "data": {
      "application/javascript": [
       "$('div#7e18aa89-7039-47ae-949a-37ea7ace94ec').width('24%')"
      ],
      "text/plain": [
       "<IPython.core.display.Javascript object>"
      ]
     },
     "metadata": {},
     "output_type": "display_data"
    },
    {
     "data": {
      "application/javascript": [
       "$('label#be9ffa6b-6f7d-43cc-a4be-02343637f7c1').text('24% in 1.5 sec')"
      ],
      "text/plain": [
       "<IPython.core.display.Javascript object>"
      ]
     },
     "metadata": {},
     "output_type": "display_data"
    },
    {
     "data": {
      "application/javascript": [
       "$('div#7e18aa89-7039-47ae-949a-37ea7ace94ec').width('25%')"
      ],
      "text/plain": [
       "<IPython.core.display.Javascript object>"
      ]
     },
     "metadata": {},
     "output_type": "display_data"
    },
    {
     "data": {
      "application/javascript": [
       "$('label#be9ffa6b-6f7d-43cc-a4be-02343637f7c1').text('25% in 1.5 sec')"
      ],
      "text/plain": [
       "<IPython.core.display.Javascript object>"
      ]
     },
     "metadata": {},
     "output_type": "display_data"
    },
    {
     "data": {
      "application/javascript": [
       "$('div#7e18aa89-7039-47ae-949a-37ea7ace94ec').width('26%')"
      ],
      "text/plain": [
       "<IPython.core.display.Javascript object>"
      ]
     },
     "metadata": {},
     "output_type": "display_data"
    },
    {
     "data": {
      "application/javascript": [
       "$('label#be9ffa6b-6f7d-43cc-a4be-02343637f7c1').text('26% in 1.5 sec')"
      ],
      "text/plain": [
       "<IPython.core.display.Javascript object>"
      ]
     },
     "metadata": {},
     "output_type": "display_data"
    },
    {
     "data": {
      "application/javascript": [
       "$('div#7e18aa89-7039-47ae-949a-37ea7ace94ec').width('27%')"
      ],
      "text/plain": [
       "<IPython.core.display.Javascript object>"
      ]
     },
     "metadata": {},
     "output_type": "display_data"
    },
    {
     "data": {
      "application/javascript": [
       "$('label#be9ffa6b-6f7d-43cc-a4be-02343637f7c1').text('27% in 1.6 sec')"
      ],
      "text/plain": [
       "<IPython.core.display.Javascript object>"
      ]
     },
     "metadata": {},
     "output_type": "display_data"
    },
    {
     "data": {
      "application/javascript": [
       "$('div#7e18aa89-7039-47ae-949a-37ea7ace94ec').width('28%')"
      ],
      "text/plain": [
       "<IPython.core.display.Javascript object>"
      ]
     },
     "metadata": {},
     "output_type": "display_data"
    },
    {
     "data": {
      "application/javascript": [
       "$('label#be9ffa6b-6f7d-43cc-a4be-02343637f7c1').text('28% in 1.6 sec')"
      ],
      "text/plain": [
       "<IPython.core.display.Javascript object>"
      ]
     },
     "metadata": {},
     "output_type": "display_data"
    },
    {
     "data": {
      "application/javascript": [
       "$('div#7e18aa89-7039-47ae-949a-37ea7ace94ec').width('29%')"
      ],
      "text/plain": [
       "<IPython.core.display.Javascript object>"
      ]
     },
     "metadata": {},
     "output_type": "display_data"
    },
    {
     "data": {
      "application/javascript": [
       "$('label#be9ffa6b-6f7d-43cc-a4be-02343637f7c1').text('29% in 1.6 sec')"
      ],
      "text/plain": [
       "<IPython.core.display.Javascript object>"
      ]
     },
     "metadata": {},
     "output_type": "display_data"
    },
    {
     "data": {
      "application/javascript": [
       "$('div#7e18aa89-7039-47ae-949a-37ea7ace94ec').width('30%')"
      ],
      "text/plain": [
       "<IPython.core.display.Javascript object>"
      ]
     },
     "metadata": {},
     "output_type": "display_data"
    },
    {
     "data": {
      "application/javascript": [
       "$('label#be9ffa6b-6f7d-43cc-a4be-02343637f7c1').text('30% in 1.7 sec')"
      ],
      "text/plain": [
       "<IPython.core.display.Javascript object>"
      ]
     },
     "metadata": {},
     "output_type": "display_data"
    },
    {
     "data": {
      "application/javascript": [
       "$('div#7e18aa89-7039-47ae-949a-37ea7ace94ec').width('31%')"
      ],
      "text/plain": [
       "<IPython.core.display.Javascript object>"
      ]
     },
     "metadata": {},
     "output_type": "display_data"
    },
    {
     "data": {
      "application/javascript": [
       "$('label#be9ffa6b-6f7d-43cc-a4be-02343637f7c1').text('31% in 1.7 sec')"
      ],
      "text/plain": [
       "<IPython.core.display.Javascript object>"
      ]
     },
     "metadata": {},
     "output_type": "display_data"
    },
    {
     "data": {
      "application/javascript": [
       "$('div#7e18aa89-7039-47ae-949a-37ea7ace94ec').width('32%')"
      ],
      "text/plain": [
       "<IPython.core.display.Javascript object>"
      ]
     },
     "metadata": {},
     "output_type": "display_data"
    },
    {
     "data": {
      "application/javascript": [
       "$('label#be9ffa6b-6f7d-43cc-a4be-02343637f7c1').text('32% in 1.7 sec')"
      ],
      "text/plain": [
       "<IPython.core.display.Javascript object>"
      ]
     },
     "metadata": {},
     "output_type": "display_data"
    },
    {
     "data": {
      "application/javascript": [
       "$('div#7e18aa89-7039-47ae-949a-37ea7ace94ec').width('33%')"
      ],
      "text/plain": [
       "<IPython.core.display.Javascript object>"
      ]
     },
     "metadata": {},
     "output_type": "display_data"
    },
    {
     "data": {
      "application/javascript": [
       "$('label#be9ffa6b-6f7d-43cc-a4be-02343637f7c1').text('33% in 1.7 sec')"
      ],
      "text/plain": [
       "<IPython.core.display.Javascript object>"
      ]
     },
     "metadata": {},
     "output_type": "display_data"
    },
    {
     "data": {
      "application/javascript": [
       "$('div#7e18aa89-7039-47ae-949a-37ea7ace94ec').width('34%')"
      ],
      "text/plain": [
       "<IPython.core.display.Javascript object>"
      ]
     },
     "metadata": {},
     "output_type": "display_data"
    },
    {
     "data": {
      "application/javascript": [
       "$('label#be9ffa6b-6f7d-43cc-a4be-02343637f7c1').text('34% in 2.2 sec')"
      ],
      "text/plain": [
       "<IPython.core.display.Javascript object>"
      ]
     },
     "metadata": {},
     "output_type": "display_data"
    },
    {
     "data": {
      "application/javascript": [
       "$('div#7e18aa89-7039-47ae-949a-37ea7ace94ec').width('35%')"
      ],
      "text/plain": [
       "<IPython.core.display.Javascript object>"
      ]
     },
     "metadata": {},
     "output_type": "display_data"
    },
    {
     "data": {
      "application/javascript": [
       "$('label#be9ffa6b-6f7d-43cc-a4be-02343637f7c1').text('35% in 2.2 sec')"
      ],
      "text/plain": [
       "<IPython.core.display.Javascript object>"
      ]
     },
     "metadata": {},
     "output_type": "display_data"
    },
    {
     "data": {
      "application/javascript": [
       "$('div#7e18aa89-7039-47ae-949a-37ea7ace94ec').width('36%')"
      ],
      "text/plain": [
       "<IPython.core.display.Javascript object>"
      ]
     },
     "metadata": {},
     "output_type": "display_data"
    },
    {
     "data": {
      "application/javascript": [
       "$('label#be9ffa6b-6f7d-43cc-a4be-02343637f7c1').text('36% in 2.3 sec')"
      ],
      "text/plain": [
       "<IPython.core.display.Javascript object>"
      ]
     },
     "metadata": {},
     "output_type": "display_data"
    },
    {
     "data": {
      "application/javascript": [
       "$('div#7e18aa89-7039-47ae-949a-37ea7ace94ec').width('37%')"
      ],
      "text/plain": [
       "<IPython.core.display.Javascript object>"
      ]
     },
     "metadata": {},
     "output_type": "display_data"
    },
    {
     "data": {
      "application/javascript": [
       "$('label#be9ffa6b-6f7d-43cc-a4be-02343637f7c1').text('37% in 2.3 sec')"
      ],
      "text/plain": [
       "<IPython.core.display.Javascript object>"
      ]
     },
     "metadata": {},
     "output_type": "display_data"
    },
    {
     "data": {
      "application/javascript": [
       "$('div#7e18aa89-7039-47ae-949a-37ea7ace94ec').width('38%')"
      ],
      "text/plain": [
       "<IPython.core.display.Javascript object>"
      ]
     },
     "metadata": {},
     "output_type": "display_data"
    },
    {
     "data": {
      "application/javascript": [
       "$('label#be9ffa6b-6f7d-43cc-a4be-02343637f7c1').text('38% in 2.3 sec')"
      ],
      "text/plain": [
       "<IPython.core.display.Javascript object>"
      ]
     },
     "metadata": {},
     "output_type": "display_data"
    },
    {
     "data": {
      "application/javascript": [
       "$('div#7e18aa89-7039-47ae-949a-37ea7ace94ec').width('39%')"
      ],
      "text/plain": [
       "<IPython.core.display.Javascript object>"
      ]
     },
     "metadata": {},
     "output_type": "display_data"
    },
    {
     "data": {
      "application/javascript": [
       "$('label#be9ffa6b-6f7d-43cc-a4be-02343637f7c1').text('39% in 2.7 sec')"
      ],
      "text/plain": [
       "<IPython.core.display.Javascript object>"
      ]
     },
     "metadata": {},
     "output_type": "display_data"
    },
    {
     "data": {
      "application/javascript": [
       "$('div#7e18aa89-7039-47ae-949a-37ea7ace94ec').width('40%')"
      ],
      "text/plain": [
       "<IPython.core.display.Javascript object>"
      ]
     },
     "metadata": {},
     "output_type": "display_data"
    },
    {
     "data": {
      "application/javascript": [
       "$('label#be9ffa6b-6f7d-43cc-a4be-02343637f7c1').text('40% in 3.0 sec')"
      ],
      "text/plain": [
       "<IPython.core.display.Javascript object>"
      ]
     },
     "metadata": {},
     "output_type": "display_data"
    },
    {
     "data": {
      "application/javascript": [
       "$('div#7e18aa89-7039-47ae-949a-37ea7ace94ec').width('41%')"
      ],
      "text/plain": [
       "<IPython.core.display.Javascript object>"
      ]
     },
     "metadata": {},
     "output_type": "display_data"
    },
    {
     "data": {
      "application/javascript": [
       "$('label#be9ffa6b-6f7d-43cc-a4be-02343637f7c1').text('41% in 3.3 sec')"
      ],
      "text/plain": [
       "<IPython.core.display.Javascript object>"
      ]
     },
     "metadata": {},
     "output_type": "display_data"
    },
    {
     "data": {
      "application/javascript": [
       "$('div#7e18aa89-7039-47ae-949a-37ea7ace94ec').width('41%')"
      ],
      "text/plain": [
       "<IPython.core.display.Javascript object>"
      ]
     },
     "metadata": {},
     "output_type": "display_data"
    },
    {
     "data": {
      "application/javascript": [
       "$('label#be9ffa6b-6f7d-43cc-a4be-02343637f7c1').text('41% in 3.3 sec')"
      ],
      "text/plain": [
       "<IPython.core.display.Javascript object>"
      ]
     },
     "metadata": {},
     "output_type": "display_data"
    },
    {
     "data": {
      "application/javascript": [
       "$('div#7e18aa89-7039-47ae-949a-37ea7ace94ec').width('42%')"
      ],
      "text/plain": [
       "<IPython.core.display.Javascript object>"
      ]
     },
     "metadata": {},
     "output_type": "display_data"
    },
    {
     "data": {
      "application/javascript": [
       "$('label#be9ffa6b-6f7d-43cc-a4be-02343637f7c1').text('42% in 3.3 sec')"
      ],
      "text/plain": [
       "<IPython.core.display.Javascript object>"
      ]
     },
     "metadata": {},
     "output_type": "display_data"
    },
    {
     "data": {
      "application/javascript": [
       "$('div#7e18aa89-7039-47ae-949a-37ea7ace94ec').width('43%')"
      ],
      "text/plain": [
       "<IPython.core.display.Javascript object>"
      ]
     },
     "metadata": {},
     "output_type": "display_data"
    },
    {
     "data": {
      "application/javascript": [
       "$('label#be9ffa6b-6f7d-43cc-a4be-02343637f7c1').text('43% in 3.5 sec')"
      ],
      "text/plain": [
       "<IPython.core.display.Javascript object>"
      ]
     },
     "metadata": {},
     "output_type": "display_data"
    },
    {
     "data": {
      "application/javascript": [
       "$('div#7e18aa89-7039-47ae-949a-37ea7ace94ec').width('44%')"
      ],
      "text/plain": [
       "<IPython.core.display.Javascript object>"
      ]
     },
     "metadata": {},
     "output_type": "display_data"
    },
    {
     "data": {
      "application/javascript": [
       "$('label#be9ffa6b-6f7d-43cc-a4be-02343637f7c1').text('44% in 3.5 sec')"
      ],
      "text/plain": [
       "<IPython.core.display.Javascript object>"
      ]
     },
     "metadata": {},
     "output_type": "display_data"
    },
    {
     "data": {
      "application/javascript": [
       "$('div#7e18aa89-7039-47ae-949a-37ea7ace94ec').width('45%')"
      ],
      "text/plain": [
       "<IPython.core.display.Javascript object>"
      ]
     },
     "metadata": {},
     "output_type": "display_data"
    },
    {
     "data": {
      "application/javascript": [
       "$('label#be9ffa6b-6f7d-43cc-a4be-02343637f7c1').text('45% in 3.5 sec')"
      ],
      "text/plain": [
       "<IPython.core.display.Javascript object>"
      ]
     },
     "metadata": {},
     "output_type": "display_data"
    },
    {
     "data": {
      "application/javascript": [
       "$('div#7e18aa89-7039-47ae-949a-37ea7ace94ec').width('46%')"
      ],
      "text/plain": [
       "<IPython.core.display.Javascript object>"
      ]
     },
     "metadata": {},
     "output_type": "display_data"
    },
    {
     "data": {
      "application/javascript": [
       "$('label#be9ffa6b-6f7d-43cc-a4be-02343637f7c1').text('46% in 3.6 sec')"
      ],
      "text/plain": [
       "<IPython.core.display.Javascript object>"
      ]
     },
     "metadata": {},
     "output_type": "display_data"
    },
    {
     "data": {
      "application/javascript": [
       "$('div#7e18aa89-7039-47ae-949a-37ea7ace94ec').width('47%')"
      ],
      "text/plain": [
       "<IPython.core.display.Javascript object>"
      ]
     },
     "metadata": {},
     "output_type": "display_data"
    },
    {
     "data": {
      "application/javascript": [
       "$('label#be9ffa6b-6f7d-43cc-a4be-02343637f7c1').text('47% in 3.6 sec')"
      ],
      "text/plain": [
       "<IPython.core.display.Javascript object>"
      ]
     },
     "metadata": {},
     "output_type": "display_data"
    },
    {
     "data": {
      "application/javascript": [
       "$('div#7e18aa89-7039-47ae-949a-37ea7ace94ec').width('48%')"
      ],
      "text/plain": [
       "<IPython.core.display.Javascript object>"
      ]
     },
     "metadata": {},
     "output_type": "display_data"
    },
    {
     "data": {
      "application/javascript": [
       "$('label#be9ffa6b-6f7d-43cc-a4be-02343637f7c1').text('48% in 3.6 sec')"
      ],
      "text/plain": [
       "<IPython.core.display.Javascript object>"
      ]
     },
     "metadata": {},
     "output_type": "display_data"
    },
    {
     "data": {
      "application/javascript": [
       "$('div#7e18aa89-7039-47ae-949a-37ea7ace94ec').width('49%')"
      ],
      "text/plain": [
       "<IPython.core.display.Javascript object>"
      ]
     },
     "metadata": {},
     "output_type": "display_data"
    },
    {
     "data": {
      "application/javascript": [
       "$('label#be9ffa6b-6f7d-43cc-a4be-02343637f7c1').text('49% in 3.6 sec')"
      ],
      "text/plain": [
       "<IPython.core.display.Javascript object>"
      ]
     },
     "metadata": {},
     "output_type": "display_data"
    },
    {
     "data": {
      "application/javascript": [
       "$('div#7e18aa89-7039-47ae-949a-37ea7ace94ec').width('50%')"
      ],
      "text/plain": [
       "<IPython.core.display.Javascript object>"
      ]
     },
     "metadata": {},
     "output_type": "display_data"
    },
    {
     "data": {
      "application/javascript": [
       "$('label#be9ffa6b-6f7d-43cc-a4be-02343637f7c1').text('50% in 3.7 sec')"
      ],
      "text/plain": [
       "<IPython.core.display.Javascript object>"
      ]
     },
     "metadata": {},
     "output_type": "display_data"
    },
    {
     "data": {
      "application/javascript": [
       "$('div#7e18aa89-7039-47ae-949a-37ea7ace94ec').width('51%')"
      ],
      "text/plain": [
       "<IPython.core.display.Javascript object>"
      ]
     },
     "metadata": {},
     "output_type": "display_data"
    },
    {
     "data": {
      "application/javascript": [
       "$('label#be9ffa6b-6f7d-43cc-a4be-02343637f7c1').text('51% in 3.7 sec')"
      ],
      "text/plain": [
       "<IPython.core.display.Javascript object>"
      ]
     },
     "metadata": {},
     "output_type": "display_data"
    },
    {
     "data": {
      "application/javascript": [
       "$('div#7e18aa89-7039-47ae-949a-37ea7ace94ec').width('52%')"
      ],
      "text/plain": [
       "<IPython.core.display.Javascript object>"
      ]
     },
     "metadata": {},
     "output_type": "display_data"
    },
    {
     "data": {
      "application/javascript": [
       "$('label#be9ffa6b-6f7d-43cc-a4be-02343637f7c1').text('52% in 3.7 sec')"
      ],
      "text/plain": [
       "<IPython.core.display.Javascript object>"
      ]
     },
     "metadata": {},
     "output_type": "display_data"
    },
    {
     "data": {
      "application/javascript": [
       "$('div#7e18aa89-7039-47ae-949a-37ea7ace94ec').width('53%')"
      ],
      "text/plain": [
       "<IPython.core.display.Javascript object>"
      ]
     },
     "metadata": {},
     "output_type": "display_data"
    },
    {
     "data": {
      "application/javascript": [
       "$('label#be9ffa6b-6f7d-43cc-a4be-02343637f7c1').text('53% in 3.8 sec')"
      ],
      "text/plain": [
       "<IPython.core.display.Javascript object>"
      ]
     },
     "metadata": {},
     "output_type": "display_data"
    },
    {
     "data": {
      "application/javascript": [
       "$('div#7e18aa89-7039-47ae-949a-37ea7ace94ec').width('54%')"
      ],
      "text/plain": [
       "<IPython.core.display.Javascript object>"
      ]
     },
     "metadata": {},
     "output_type": "display_data"
    },
    {
     "data": {
      "application/javascript": [
       "$('label#be9ffa6b-6f7d-43cc-a4be-02343637f7c1').text('54% in 3.8 sec')"
      ],
      "text/plain": [
       "<IPython.core.display.Javascript object>"
      ]
     },
     "metadata": {},
     "output_type": "display_data"
    },
    {
     "data": {
      "application/javascript": [
       "$('div#7e18aa89-7039-47ae-949a-37ea7ace94ec').width('55%')"
      ],
      "text/plain": [
       "<IPython.core.display.Javascript object>"
      ]
     },
     "metadata": {},
     "output_type": "display_data"
    },
    {
     "data": {
      "application/javascript": [
       "$('label#be9ffa6b-6f7d-43cc-a4be-02343637f7c1').text('55% in 3.8 sec')"
      ],
      "text/plain": [
       "<IPython.core.display.Javascript object>"
      ]
     },
     "metadata": {},
     "output_type": "display_data"
    },
    {
     "data": {
      "application/javascript": [
       "$('div#7e18aa89-7039-47ae-949a-37ea7ace94ec').width('56%')"
      ],
      "text/plain": [
       "<IPython.core.display.Javascript object>"
      ]
     },
     "metadata": {},
     "output_type": "display_data"
    },
    {
     "data": {
      "application/javascript": [
       "$('label#be9ffa6b-6f7d-43cc-a4be-02343637f7c1').text('56% in 3.8 sec')"
      ],
      "text/plain": [
       "<IPython.core.display.Javascript object>"
      ]
     },
     "metadata": {},
     "output_type": "display_data"
    },
    {
     "data": {
      "application/javascript": [
       "$('div#7e18aa89-7039-47ae-949a-37ea7ace94ec').width('57%')"
      ],
      "text/plain": [
       "<IPython.core.display.Javascript object>"
      ]
     },
     "metadata": {},
     "output_type": "display_data"
    },
    {
     "data": {
      "application/javascript": [
       "$('label#be9ffa6b-6f7d-43cc-a4be-02343637f7c1').text('57% in 3.9 sec')"
      ],
      "text/plain": [
       "<IPython.core.display.Javascript object>"
      ]
     },
     "metadata": {},
     "output_type": "display_data"
    },
    {
     "data": {
      "application/javascript": [
       "$('div#7e18aa89-7039-47ae-949a-37ea7ace94ec').width('58%')"
      ],
      "text/plain": [
       "<IPython.core.display.Javascript object>"
      ]
     },
     "metadata": {},
     "output_type": "display_data"
    },
    {
     "data": {
      "application/javascript": [
       "$('label#be9ffa6b-6f7d-43cc-a4be-02343637f7c1').text('58% in 4.3 sec')"
      ],
      "text/plain": [
       "<IPython.core.display.Javascript object>"
      ]
     },
     "metadata": {},
     "output_type": "display_data"
    },
    {
     "data": {
      "application/javascript": [
       "$('div#7e18aa89-7039-47ae-949a-37ea7ace94ec').width('59%')"
      ],
      "text/plain": [
       "<IPython.core.display.Javascript object>"
      ]
     },
     "metadata": {},
     "output_type": "display_data"
    },
    {
     "data": {
      "application/javascript": [
       "$('label#be9ffa6b-6f7d-43cc-a4be-02343637f7c1').text('59% in 4.4 sec')"
      ],
      "text/plain": [
       "<IPython.core.display.Javascript object>"
      ]
     },
     "metadata": {},
     "output_type": "display_data"
    },
    {
     "data": {
      "application/javascript": [
       "$('div#7e18aa89-7039-47ae-949a-37ea7ace94ec').width('60%')"
      ],
      "text/plain": [
       "<IPython.core.display.Javascript object>"
      ]
     },
     "metadata": {},
     "output_type": "display_data"
    },
    {
     "data": {
      "application/javascript": [
       "$('label#be9ffa6b-6f7d-43cc-a4be-02343637f7c1').text('60% in 4.4 sec')"
      ],
      "text/plain": [
       "<IPython.core.display.Javascript object>"
      ]
     },
     "metadata": {},
     "output_type": "display_data"
    },
    {
     "data": {
      "application/javascript": [
       "$('div#7e18aa89-7039-47ae-949a-37ea7ace94ec').width('61%')"
      ],
      "text/plain": [
       "<IPython.core.display.Javascript object>"
      ]
     },
     "metadata": {},
     "output_type": "display_data"
    },
    {
     "data": {
      "application/javascript": [
       "$('label#be9ffa6b-6f7d-43cc-a4be-02343637f7c1').text('61% in 4.4 sec')"
      ],
      "text/plain": [
       "<IPython.core.display.Javascript object>"
      ]
     },
     "metadata": {},
     "output_type": "display_data"
    },
    {
     "data": {
      "application/javascript": [
       "$('div#7e18aa89-7039-47ae-949a-37ea7ace94ec').width('62%')"
      ],
      "text/plain": [
       "<IPython.core.display.Javascript object>"
      ]
     },
     "metadata": {},
     "output_type": "display_data"
    },
    {
     "data": {
      "application/javascript": [
       "$('label#be9ffa6b-6f7d-43cc-a4be-02343637f7c1').text('62% in 4.6 sec')"
      ],
      "text/plain": [
       "<IPython.core.display.Javascript object>"
      ]
     },
     "metadata": {},
     "output_type": "display_data"
    },
    {
     "data": {
      "application/javascript": [
       "$('div#7e18aa89-7039-47ae-949a-37ea7ace94ec').width('62%')"
      ],
      "text/plain": [
       "<IPython.core.display.Javascript object>"
      ]
     },
     "metadata": {},
     "output_type": "display_data"
    },
    {
     "data": {
      "application/javascript": [
       "$('label#be9ffa6b-6f7d-43cc-a4be-02343637f7c1').text('62% in 5.1 sec')"
      ],
      "text/plain": [
       "<IPython.core.display.Javascript object>"
      ]
     },
     "metadata": {},
     "output_type": "display_data"
    },
    {
     "data": {
      "application/javascript": [
       "$('div#7e18aa89-7039-47ae-949a-37ea7ace94ec').width('63%')"
      ],
      "text/plain": [
       "<IPython.core.display.Javascript object>"
      ]
     },
     "metadata": {},
     "output_type": "display_data"
    },
    {
     "data": {
      "application/javascript": [
       "$('label#be9ffa6b-6f7d-43cc-a4be-02343637f7c1').text('63% in 5.8 sec')"
      ],
      "text/plain": [
       "<IPython.core.display.Javascript object>"
      ]
     },
     "metadata": {},
     "output_type": "display_data"
    },
    {
     "data": {
      "application/javascript": [
       "$('div#7e18aa89-7039-47ae-949a-37ea7ace94ec').width('64%')"
      ],
      "text/plain": [
       "<IPython.core.display.Javascript object>"
      ]
     },
     "metadata": {},
     "output_type": "display_data"
    },
    {
     "data": {
      "application/javascript": [
       "$('label#be9ffa6b-6f7d-43cc-a4be-02343637f7c1').text('64% in 6.4 sec')"
      ],
      "text/plain": [
       "<IPython.core.display.Javascript object>"
      ]
     },
     "metadata": {},
     "output_type": "display_data"
    },
    {
     "data": {
      "application/javascript": [
       "$('div#7e18aa89-7039-47ae-949a-37ea7ace94ec').width('65%')"
      ],
      "text/plain": [
       "<IPython.core.display.Javascript object>"
      ]
     },
     "metadata": {},
     "output_type": "display_data"
    },
    {
     "data": {
      "application/javascript": [
       "$('label#be9ffa6b-6f7d-43cc-a4be-02343637f7c1').text('65% in 7.0 sec')"
      ],
      "text/plain": [
       "<IPython.core.display.Javascript object>"
      ]
     },
     "metadata": {},
     "output_type": "display_data"
    },
    {
     "data": {
      "application/javascript": [
       "$('div#7e18aa89-7039-47ae-949a-37ea7ace94ec').width('66%')"
      ],
      "text/plain": [
       "<IPython.core.display.Javascript object>"
      ]
     },
     "metadata": {},
     "output_type": "display_data"
    },
    {
     "data": {
      "application/javascript": [
       "$('label#be9ffa6b-6f7d-43cc-a4be-02343637f7c1').text('66% in 7.0 sec')"
      ],
      "text/plain": [
       "<IPython.core.display.Javascript object>"
      ]
     },
     "metadata": {},
     "output_type": "display_data"
    },
    {
     "data": {
      "application/javascript": [
       "$('div#7e18aa89-7039-47ae-949a-37ea7ace94ec').width('67%')"
      ],
      "text/plain": [
       "<IPython.core.display.Javascript object>"
      ]
     },
     "metadata": {},
     "output_type": "display_data"
    },
    {
     "data": {
      "application/javascript": [
       "$('label#be9ffa6b-6f7d-43cc-a4be-02343637f7c1').text('67% in 7.0 sec')"
      ],
      "text/plain": [
       "<IPython.core.display.Javascript object>"
      ]
     },
     "metadata": {},
     "output_type": "display_data"
    },
    {
     "data": {
      "application/javascript": [
       "$('div#7e18aa89-7039-47ae-949a-37ea7ace94ec').width('68%')"
      ],
      "text/plain": [
       "<IPython.core.display.Javascript object>"
      ]
     },
     "metadata": {},
     "output_type": "display_data"
    },
    {
     "data": {
      "application/javascript": [
       "$('label#be9ffa6b-6f7d-43cc-a4be-02343637f7c1').text('68% in 7.1 sec')"
      ],
      "text/plain": [
       "<IPython.core.display.Javascript object>"
      ]
     },
     "metadata": {},
     "output_type": "display_data"
    },
    {
     "data": {
      "application/javascript": [
       "$('div#7e18aa89-7039-47ae-949a-37ea7ace94ec').width('69%')"
      ],
      "text/plain": [
       "<IPython.core.display.Javascript object>"
      ]
     },
     "metadata": {},
     "output_type": "display_data"
    },
    {
     "data": {
      "application/javascript": [
       "$('label#be9ffa6b-6f7d-43cc-a4be-02343637f7c1').text('69% in 7.1 sec')"
      ],
      "text/plain": [
       "<IPython.core.display.Javascript object>"
      ]
     },
     "metadata": {},
     "output_type": "display_data"
    },
    {
     "data": {
      "application/javascript": [
       "$('div#7e18aa89-7039-47ae-949a-37ea7ace94ec').width('70%')"
      ],
      "text/plain": [
       "<IPython.core.display.Javascript object>"
      ]
     },
     "metadata": {},
     "output_type": "display_data"
    },
    {
     "data": {
      "application/javascript": [
       "$('label#be9ffa6b-6f7d-43cc-a4be-02343637f7c1').text('70% in 7.1 sec')"
      ],
      "text/plain": [
       "<IPython.core.display.Javascript object>"
      ]
     },
     "metadata": {},
     "output_type": "display_data"
    },
    {
     "data": {
      "application/javascript": [
       "$('div#7e18aa89-7039-47ae-949a-37ea7ace94ec').width('71%')"
      ],
      "text/plain": [
       "<IPython.core.display.Javascript object>"
      ]
     },
     "metadata": {},
     "output_type": "display_data"
    },
    {
     "data": {
      "application/javascript": [
       "$('label#be9ffa6b-6f7d-43cc-a4be-02343637f7c1').text('71% in 7.1 sec')"
      ],
      "text/plain": [
       "<IPython.core.display.Javascript object>"
      ]
     },
     "metadata": {},
     "output_type": "display_data"
    },
    {
     "data": {
      "application/javascript": [
       "$('div#7e18aa89-7039-47ae-949a-37ea7ace94ec').width('72%')"
      ],
      "text/plain": [
       "<IPython.core.display.Javascript object>"
      ]
     },
     "metadata": {},
     "output_type": "display_data"
    },
    {
     "data": {
      "application/javascript": [
       "$('label#be9ffa6b-6f7d-43cc-a4be-02343637f7c1').text('72% in 7.2 sec')"
      ],
      "text/plain": [
       "<IPython.core.display.Javascript object>"
      ]
     },
     "metadata": {},
     "output_type": "display_data"
    },
    {
     "data": {
      "application/javascript": [
       "$('div#7e18aa89-7039-47ae-949a-37ea7ace94ec').width('73%')"
      ],
      "text/plain": [
       "<IPython.core.display.Javascript object>"
      ]
     },
     "metadata": {},
     "output_type": "display_data"
    },
    {
     "data": {
      "application/javascript": [
       "$('label#be9ffa6b-6f7d-43cc-a4be-02343637f7c1').text('73% in 7.3 sec')"
      ],
      "text/plain": [
       "<IPython.core.display.Javascript object>"
      ]
     },
     "metadata": {},
     "output_type": "display_data"
    },
    {
     "data": {
      "application/javascript": [
       "$('div#7e18aa89-7039-47ae-949a-37ea7ace94ec').width('74%')"
      ],
      "text/plain": [
       "<IPython.core.display.Javascript object>"
      ]
     },
     "metadata": {},
     "output_type": "display_data"
    },
    {
     "data": {
      "application/javascript": [
       "$('label#be9ffa6b-6f7d-43cc-a4be-02343637f7c1').text('74% in 7.3 sec')"
      ],
      "text/plain": [
       "<IPython.core.display.Javascript object>"
      ]
     },
     "metadata": {},
     "output_type": "display_data"
    },
    {
     "data": {
      "application/javascript": [
       "$('div#7e18aa89-7039-47ae-949a-37ea7ace94ec').width('75%')"
      ],
      "text/plain": [
       "<IPython.core.display.Javascript object>"
      ]
     },
     "metadata": {},
     "output_type": "display_data"
    },
    {
     "data": {
      "application/javascript": [
       "$('label#be9ffa6b-6f7d-43cc-a4be-02343637f7c1').text('75% in 7.4 sec')"
      ],
      "text/plain": [
       "<IPython.core.display.Javascript object>"
      ]
     },
     "metadata": {},
     "output_type": "display_data"
    },
    {
     "data": {
      "application/javascript": [
       "$('div#7e18aa89-7039-47ae-949a-37ea7ace94ec').width('76%')"
      ],
      "text/plain": [
       "<IPython.core.display.Javascript object>"
      ]
     },
     "metadata": {},
     "output_type": "display_data"
    },
    {
     "data": {
      "application/javascript": [
       "$('label#be9ffa6b-6f7d-43cc-a4be-02343637f7c1').text('76% in 7.4 sec')"
      ],
      "text/plain": [
       "<IPython.core.display.Javascript object>"
      ]
     },
     "metadata": {},
     "output_type": "display_data"
    },
    {
     "data": {
      "application/javascript": [
       "$('div#7e18aa89-7039-47ae-949a-37ea7ace94ec').width('77%')"
      ],
      "text/plain": [
       "<IPython.core.display.Javascript object>"
      ]
     },
     "metadata": {},
     "output_type": "display_data"
    },
    {
     "data": {
      "application/javascript": [
       "$('label#be9ffa6b-6f7d-43cc-a4be-02343637f7c1').text('77% in 7.4 sec')"
      ],
      "text/plain": [
       "<IPython.core.display.Javascript object>"
      ]
     },
     "metadata": {},
     "output_type": "display_data"
    },
    {
     "data": {
      "application/javascript": [
       "$('div#7e18aa89-7039-47ae-949a-37ea7ace94ec').width('78%')"
      ],
      "text/plain": [
       "<IPython.core.display.Javascript object>"
      ]
     },
     "metadata": {},
     "output_type": "display_data"
    },
    {
     "data": {
      "application/javascript": [
       "$('label#be9ffa6b-6f7d-43cc-a4be-02343637f7c1').text('78% in 7.4 sec')"
      ],
      "text/plain": [
       "<IPython.core.display.Javascript object>"
      ]
     },
     "metadata": {},
     "output_type": "display_data"
    },
    {
     "data": {
      "application/javascript": [
       "$('div#7e18aa89-7039-47ae-949a-37ea7ace94ec').width('79%')"
      ],
      "text/plain": [
       "<IPython.core.display.Javascript object>"
      ]
     },
     "metadata": {},
     "output_type": "display_data"
    },
    {
     "data": {
      "application/javascript": [
       "$('label#be9ffa6b-6f7d-43cc-a4be-02343637f7c1').text('79% in 7.5 sec')"
      ],
      "text/plain": [
       "<IPython.core.display.Javascript object>"
      ]
     },
     "metadata": {},
     "output_type": "display_data"
    },
    {
     "data": {
      "application/javascript": [
       "$('div#7e18aa89-7039-47ae-949a-37ea7ace94ec').width('80%')"
      ],
      "text/plain": [
       "<IPython.core.display.Javascript object>"
      ]
     },
     "metadata": {},
     "output_type": "display_data"
    },
    {
     "data": {
      "application/javascript": [
       "$('label#be9ffa6b-6f7d-43cc-a4be-02343637f7c1').text('80% in 7.5 sec')"
      ],
      "text/plain": [
       "<IPython.core.display.Javascript object>"
      ]
     },
     "metadata": {},
     "output_type": "display_data"
    },
    {
     "data": {
      "application/javascript": [
       "$('div#7e18aa89-7039-47ae-949a-37ea7ace94ec').width('81%')"
      ],
      "text/plain": [
       "<IPython.core.display.Javascript object>"
      ]
     },
     "metadata": {},
     "output_type": "display_data"
    },
    {
     "data": {
      "application/javascript": [
       "$('label#be9ffa6b-6f7d-43cc-a4be-02343637f7c1').text('81% in 7.5 sec')"
      ],
      "text/plain": [
       "<IPython.core.display.Javascript object>"
      ]
     },
     "metadata": {},
     "output_type": "display_data"
    },
    {
     "data": {
      "application/javascript": [
       "$('div#7e18aa89-7039-47ae-949a-37ea7ace94ec').width('82%')"
      ],
      "text/plain": [
       "<IPython.core.display.Javascript object>"
      ]
     },
     "metadata": {},
     "output_type": "display_data"
    },
    {
     "data": {
      "application/javascript": [
       "$('label#be9ffa6b-6f7d-43cc-a4be-02343637f7c1').text('82% in 7.5 sec')"
      ],
      "text/plain": [
       "<IPython.core.display.Javascript object>"
      ]
     },
     "metadata": {},
     "output_type": "display_data"
    },
    {
     "data": {
      "application/javascript": [
       "$('div#7e18aa89-7039-47ae-949a-37ea7ace94ec').width('83%')"
      ],
      "text/plain": [
       "<IPython.core.display.Javascript object>"
      ]
     },
     "metadata": {},
     "output_type": "display_data"
    },
    {
     "data": {
      "application/javascript": [
       "$('label#be9ffa6b-6f7d-43cc-a4be-02343637f7c1').text('83% in 7.6 sec')"
      ],
      "text/plain": [
       "<IPython.core.display.Javascript object>"
      ]
     },
     "metadata": {},
     "output_type": "display_data"
    },
    {
     "data": {
      "application/javascript": [
       "$('div#7e18aa89-7039-47ae-949a-37ea7ace94ec').width('83%')"
      ],
      "text/plain": [
       "<IPython.core.display.Javascript object>"
      ]
     },
     "metadata": {},
     "output_type": "display_data"
    },
    {
     "data": {
      "application/javascript": [
       "$('label#be9ffa6b-6f7d-43cc-a4be-02343637f7c1').text('83% in 7.6 sec')"
      ],
      "text/plain": [
       "<IPython.core.display.Javascript object>"
      ]
     },
     "metadata": {},
     "output_type": "display_data"
    },
    {
     "data": {
      "application/javascript": [
       "$('div#7e18aa89-7039-47ae-949a-37ea7ace94ec').width('84%')"
      ],
      "text/plain": [
       "<IPython.core.display.Javascript object>"
      ]
     },
     "metadata": {},
     "output_type": "display_data"
    },
    {
     "data": {
      "application/javascript": [
       "$('label#be9ffa6b-6f7d-43cc-a4be-02343637f7c1').text('84% in 7.6 sec')"
      ],
      "text/plain": [
       "<IPython.core.display.Javascript object>"
      ]
     },
     "metadata": {},
     "output_type": "display_data"
    },
    {
     "data": {
      "application/javascript": [
       "$('div#7e18aa89-7039-47ae-949a-37ea7ace94ec').width('85%')"
      ],
      "text/plain": [
       "<IPython.core.display.Javascript object>"
      ]
     },
     "metadata": {},
     "output_type": "display_data"
    },
    {
     "data": {
      "application/javascript": [
       "$('label#be9ffa6b-6f7d-43cc-a4be-02343637f7c1').text('85% in 7.7 sec')"
      ],
      "text/plain": [
       "<IPython.core.display.Javascript object>"
      ]
     },
     "metadata": {},
     "output_type": "display_data"
    },
    {
     "data": {
      "application/javascript": [
       "$('div#7e18aa89-7039-47ae-949a-37ea7ace94ec').width('86%')"
      ],
      "text/plain": [
       "<IPython.core.display.Javascript object>"
      ]
     },
     "metadata": {},
     "output_type": "display_data"
    },
    {
     "data": {
      "application/javascript": [
       "$('label#be9ffa6b-6f7d-43cc-a4be-02343637f7c1').text('86% in 7.7 sec')"
      ],
      "text/plain": [
       "<IPython.core.display.Javascript object>"
      ]
     },
     "metadata": {},
     "output_type": "display_data"
    },
    {
     "data": {
      "application/javascript": [
       "$('div#7e18aa89-7039-47ae-949a-37ea7ace94ec').width('87%')"
      ],
      "text/plain": [
       "<IPython.core.display.Javascript object>"
      ]
     },
     "metadata": {},
     "output_type": "display_data"
    },
    {
     "data": {
      "application/javascript": [
       "$('label#be9ffa6b-6f7d-43cc-a4be-02343637f7c1').text('87% in 7.7 sec')"
      ],
      "text/plain": [
       "<IPython.core.display.Javascript object>"
      ]
     },
     "metadata": {},
     "output_type": "display_data"
    },
    {
     "data": {
      "application/javascript": [
       "$('div#7e18aa89-7039-47ae-949a-37ea7ace94ec').width('88%')"
      ],
      "text/plain": [
       "<IPython.core.display.Javascript object>"
      ]
     },
     "metadata": {},
     "output_type": "display_data"
    },
    {
     "data": {
      "application/javascript": [
       "$('label#be9ffa6b-6f7d-43cc-a4be-02343637f7c1').text('88% in 7.7 sec')"
      ],
      "text/plain": [
       "<IPython.core.display.Javascript object>"
      ]
     },
     "metadata": {},
     "output_type": "display_data"
    },
    {
     "data": {
      "application/javascript": [
       "$('div#7e18aa89-7039-47ae-949a-37ea7ace94ec').width('89%')"
      ],
      "text/plain": [
       "<IPython.core.display.Javascript object>"
      ]
     },
     "metadata": {},
     "output_type": "display_data"
    },
    {
     "data": {
      "application/javascript": [
       "$('label#be9ffa6b-6f7d-43cc-a4be-02343637f7c1').text('89% in 7.8 sec')"
      ],
      "text/plain": [
       "<IPython.core.display.Javascript object>"
      ]
     },
     "metadata": {},
     "output_type": "display_data"
    },
    {
     "data": {
      "application/javascript": [
       "$('div#7e18aa89-7039-47ae-949a-37ea7ace94ec').width('90%')"
      ],
      "text/plain": [
       "<IPython.core.display.Javascript object>"
      ]
     },
     "metadata": {},
     "output_type": "display_data"
    },
    {
     "data": {
      "application/javascript": [
       "$('label#be9ffa6b-6f7d-43cc-a4be-02343637f7c1').text('90% in 7.8 sec')"
      ],
      "text/plain": [
       "<IPython.core.display.Javascript object>"
      ]
     },
     "metadata": {},
     "output_type": "display_data"
    },
    {
     "data": {
      "application/javascript": [
       "$('div#7e18aa89-7039-47ae-949a-37ea7ace94ec').width('91%')"
      ],
      "text/plain": [
       "<IPython.core.display.Javascript object>"
      ]
     },
     "metadata": {},
     "output_type": "display_data"
    },
    {
     "data": {
      "application/javascript": [
       "$('label#be9ffa6b-6f7d-43cc-a4be-02343637f7c1').text('91% in 7.8 sec')"
      ],
      "text/plain": [
       "<IPython.core.display.Javascript object>"
      ]
     },
     "metadata": {},
     "output_type": "display_data"
    },
    {
     "data": {
      "application/javascript": [
       "$('div#7e18aa89-7039-47ae-949a-37ea7ace94ec').width('92%')"
      ],
      "text/plain": [
       "<IPython.core.display.Javascript object>"
      ]
     },
     "metadata": {},
     "output_type": "display_data"
    },
    {
     "data": {
      "application/javascript": [
       "$('label#be9ffa6b-6f7d-43cc-a4be-02343637f7c1').text('92% in 7.8 sec')"
      ],
      "text/plain": [
       "<IPython.core.display.Javascript object>"
      ]
     },
     "metadata": {},
     "output_type": "display_data"
    },
    {
     "data": {
      "application/javascript": [
       "$('div#7e18aa89-7039-47ae-949a-37ea7ace94ec').width('93%')"
      ],
      "text/plain": [
       "<IPython.core.display.Javascript object>"
      ]
     },
     "metadata": {},
     "output_type": "display_data"
    },
    {
     "data": {
      "application/javascript": [
       "$('label#be9ffa6b-6f7d-43cc-a4be-02343637f7c1').text('93% in 7.9 sec')"
      ],
      "text/plain": [
       "<IPython.core.display.Javascript object>"
      ]
     },
     "metadata": {},
     "output_type": "display_data"
    },
    {
     "data": {
      "application/javascript": [
       "$('div#7e18aa89-7039-47ae-949a-37ea7ace94ec').width('94%')"
      ],
      "text/plain": [
       "<IPython.core.display.Javascript object>"
      ]
     },
     "metadata": {},
     "output_type": "display_data"
    },
    {
     "data": {
      "application/javascript": [
       "$('label#be9ffa6b-6f7d-43cc-a4be-02343637f7c1').text('94% in 7.9 sec')"
      ],
      "text/plain": [
       "<IPython.core.display.Javascript object>"
      ]
     },
     "metadata": {},
     "output_type": "display_data"
    },
    {
     "data": {
      "application/javascript": [
       "$('div#7e18aa89-7039-47ae-949a-37ea7ace94ec').width('95%')"
      ],
      "text/plain": [
       "<IPython.core.display.Javascript object>"
      ]
     },
     "metadata": {},
     "output_type": "display_data"
    },
    {
     "data": {
      "application/javascript": [
       "$('label#be9ffa6b-6f7d-43cc-a4be-02343637f7c1').text('95% in 7.9 sec')"
      ],
      "text/plain": [
       "<IPython.core.display.Javascript object>"
      ]
     },
     "metadata": {},
     "output_type": "display_data"
    },
    {
     "data": {
      "application/javascript": [
       "$('div#7e18aa89-7039-47ae-949a-37ea7ace94ec').width('96%')"
      ],
      "text/plain": [
       "<IPython.core.display.Javascript object>"
      ]
     },
     "metadata": {},
     "output_type": "display_data"
    },
    {
     "data": {
      "application/javascript": [
       "$('label#be9ffa6b-6f7d-43cc-a4be-02343637f7c1').text('96% in 8.0 sec')"
      ],
      "text/plain": [
       "<IPython.core.display.Javascript object>"
      ]
     },
     "metadata": {},
     "output_type": "display_data"
    },
    {
     "data": {
      "application/javascript": [
       "$('div#7e18aa89-7039-47ae-949a-37ea7ace94ec').width('97%')"
      ],
      "text/plain": [
       "<IPython.core.display.Javascript object>"
      ]
     },
     "metadata": {},
     "output_type": "display_data"
    },
    {
     "data": {
      "application/javascript": [
       "$('label#be9ffa6b-6f7d-43cc-a4be-02343637f7c1').text('97% in 8.0 sec')"
      ],
      "text/plain": [
       "<IPython.core.display.Javascript object>"
      ]
     },
     "metadata": {},
     "output_type": "display_data"
    },
    {
     "data": {
      "application/javascript": [
       "$('div#7e18aa89-7039-47ae-949a-37ea7ace94ec').width('98%')"
      ],
      "text/plain": [
       "<IPython.core.display.Javascript object>"
      ]
     },
     "metadata": {},
     "output_type": "display_data"
    },
    {
     "data": {
      "application/javascript": [
       "$('label#be9ffa6b-6f7d-43cc-a4be-02343637f7c1').text('98% in 8.0 sec')"
      ],
      "text/plain": [
       "<IPython.core.display.Javascript object>"
      ]
     },
     "metadata": {},
     "output_type": "display_data"
    },
    {
     "data": {
      "application/javascript": [
       "$('div#7e18aa89-7039-47ae-949a-37ea7ace94ec').width('99%')"
      ],
      "text/plain": [
       "<IPython.core.display.Javascript object>"
      ]
     },
     "metadata": {},
     "output_type": "display_data"
    },
    {
     "data": {
      "application/javascript": [
       "$('label#be9ffa6b-6f7d-43cc-a4be-02343637f7c1').text('99% in 8.0 sec')"
      ],
      "text/plain": [
       "<IPython.core.display.Javascript object>"
      ]
     },
     "metadata": {},
     "output_type": "display_data"
    },
    {
     "data": {
      "application/javascript": [
       "$('div#7e18aa89-7039-47ae-949a-37ea7ace94ec').width('100%')"
      ],
      "text/plain": [
       "<IPython.core.display.Javascript object>"
      ]
     },
     "metadata": {},
     "output_type": "display_data"
    },
    {
     "data": {
      "application/javascript": [
       "$('label#be9ffa6b-6f7d-43cc-a4be-02343637f7c1').text('100% in 8.1 sec')"
      ],
      "text/plain": [
       "<IPython.core.display.Javascript object>"
      ]
     },
     "metadata": {},
     "output_type": "display_data"
    },
    {
     "data": {
      "image/png": "[encoded data removed]",
      "text/plain": [
       "<matplotlib.figure.Figure at 0x7fd18bba99e8>"
      ]
     },
     "metadata": {},
     "output_type": "display_data"
    }
   ],
   "source": [
    "count = c.hist_participants()"
   ]
  },
  {
   "cell_type": "markdown",
   "metadata": {},
   "source": [
    "Further analysis can be shown here below by focusing on the participants \n",
    "themselves: how many occurences, how many unique proteins."
   ]
  },
  {
   "cell_type": "code",
   "execution_count": 5,
   "metadata": {},
   "outputs": [
    {
     "name": "stdout",
     "output_type": "stream",
     "text": [
      "There are 1467 complexes involving 4506 participants with 2949 unique species. \n"
     ]
    },
    {
     "data": {
      "image/png": "[encoded data removed]",
      "text/plain": [
       "<matplotlib.figure.Figure at 0x7fd1c912e048>"
      ]
     },
     "metadata": {},
     "output_type": "display_data"
    }
   ],
   "source": [
    "c.stats()"
   ]
  },
  {
   "cell_type": "markdown",
   "metadata": {},
   "source": [
    "Some complexes are actually homodimers, which we may want to ignore"
   ]
  },
  {
   "cell_type": "code",
   "execution_count": 6,
   "metadata": {},
   "outputs": [
    {
     "name": "stderr",
     "output_type": "stream",
     "text": [
      "INFO:root:removing 233 homodimers complexes\n"
     ]
    }
   ],
   "source": [
    "_ = c.remove_homodimers()"
   ]
  },
  {
   "cell_type": "code",
   "execution_count": 7,
   "metadata": {},
   "outputs": [
    {
     "name": "stdout",
     "output_type": "stream",
     "text": [
      "There are 1234 complexes involving 4273 participants with 2800 unique species. \n"
     ]
    },
    {
     "data": {
      "image/png": "[encoded data removed]",
      "text/plain": [
       "<matplotlib.figure.Figure at 0x7fd18b63cc50>"
      ]
     },
     "metadata": {},
     "output_type": "display_data"
    }
   ],
   "source": [
    "c.stats()"
   ]
  },
  {
   "cell_type": "markdown",
   "metadata": {},
   "source": [
    "### Looking for complexes (AND gates)"
   ]
  },
  {
   "cell_type": "markdown",
   "metadata": {},
   "source": [
    "We must provide a list if uniprot identifiers. Here is an example. The output of the **search** function is then\n",
    "two fold:\n",
    "    \n",
    "   - dictionary containing the complexes for whic all participants are included in the user list of proteins\n",
    "   - dictionary containing the complexes for which some participants are included in the user list of proteins (partial)"
   ]
  },
  {
   "cell_type": "code",
   "execution_count": 8,
   "metadata": {},
   "outputs": [
    {
     "name": "stderr",
     "output_type": "stream",
     "text": [
      "INFO:root:Found partial complex EBI-11618185 with 1 participants out of 4\n",
      "INFO:root:Found partial complex EBI-9301700 with 1 participants out of 5\n",
      "INFO:root:Found partial complex EBI-11617933 with 1 participants out of 4\n",
      "INFO:root:Found partial complex EBI-11618268 with 1 participants out of 4\n",
      "INFO:root:Found partial complex EBI-1163785 with 1 participants out of 4\n",
      "INFO:root:Found partial complex EBI-1224506 with 1 participants out of 12\n",
      "INFO:root:Found entire complex EBI-2461456 \n",
      "INFO:root:Found partial complex EBI-2461418 with 1 participants out of 2\n",
      "INFO:root:Found partial complex EBI-1163476 with 1 participants out of 4\n",
      "INFO:root:Found partial complex EBI-1163757 with 1 participants out of 4\n",
      "INFO:root:Found partial complex EBI-9009096 with 1 participants out of 4\n",
      "INFO:root:Found partial complex EBI-1210989 with 2 participants out of 4\n"
     ]
    }
   ],
   "source": [
    "user_species = ['P51234', 'P11111', 'P22222', 'P33333', u'P51553', \n",
    "                 u'P50213', 'Q01955', 'P53420', u'P29400', 'Q8TD08', 'P47985', 'CHEBI:18420']\n",
    "and_gates, subset = c.search_complexes(user_species, verbose=True)"
   ]
  },
  {
   "cell_type": "code",
   "execution_count": 9,
   "metadata": {},
   "outputs": [
    {
     "data": {
      "text/plain": [
       "{'EBI-2461456': ['Q01955', 'P53420', 'P29400']}"
      ]
     },
     "execution_count": 9,
     "metadata": {},
     "output_type": "execute_result"
    }
   ],
   "source": [
    "and_gates"
   ]
  },
  {
   "cell_type": "code",
   "execution_count": 10,
   "metadata": {},
   "outputs": [
    {
     "data": {
      "text/plain": [
       "{'EBI-11617933': {'found': ['CHEBI:18420'],\n",
       "  'participants': ['CHEBI:29034', 'P23921', 'Q7LG56', 'CHEBI:18420']},\n",
       " 'EBI-11618185': {'found': ['CHEBI:18420'],\n",
       "  'participants': ['CHEBI:29034', 'P11157', 'P07742', 'CHEBI:18420']},\n",
       " 'EBI-11618268': {'found': ['CHEBI:18420'],\n",
       "  'participants': ['CHEBI:29034', 'Q6PEE3', 'P07742', 'CHEBI:18420']},\n",
       " 'EBI-1163476': {'found': ['CHEBI:18420'],\n",
       "  'participants': ['P11177', 'P08559', 'CHEBI:18420', 'CHEBI:58937']},\n",
       " 'EBI-1163757': {'found': ['CHEBI:18420'],\n",
       "  'participants': ['P35486', 'Q9D051', 'CHEBI:18420', 'CHEBI:58937']},\n",
       " 'EBI-1163785': {'found': ['CHEBI:18420'],\n",
       "  'participants': ['P26284', 'P49432', 'CHEBI:18420', 'CHEBI:58937']},\n",
       " 'EBI-1210989': {'found': ['P51553', 'P50213'],\n",
       "  'participants': ['P51553', 'P50213', 'O43837', 'CHEBI:60240']},\n",
       " 'EBI-1224506': {'found': ['P47985'],\n",
       "  'participants': ['P22695',\n",
       "   'P31930',\n",
       "   'P07919',\n",
       "   'P00156',\n",
       "   'O14957',\n",
       "   'Q9UDW1',\n",
       "   'P08574',\n",
       "   'CHEBI:30408',\n",
       "   'O14949',\n",
       "   'P14927',\n",
       "   'P47985-PRO_0000307241',\n",
       "   'P47985-PRO_0000030664']},\n",
       " 'EBI-2461418': {'found': ['P29400'], 'participants': ['Q14031', 'P29400']},\n",
       " 'EBI-9009096': {'found': ['CHEBI:18420'],\n",
       "  'participants': ['CHEBI:29034', 'P31350', 'P23921', 'CHEBI:18420']},\n",
       " 'EBI-9301700': {'found': ['CHEBI:18420'],\n",
       "  'participants': ['CHEBI:16238',\n",
       "   'P25605',\n",
       "   'P07342',\n",
       "   'CHEBI:9532',\n",
       "   'CHEBI:18420']}}"
      ]
     },
     "execution_count": 10,
     "metadata": {},
     "output_type": "execute_result"
    }
   ],
   "source": [
    "subset"
   ]
  },
  {
   "cell_type": "markdown",
   "metadata": {},
   "source": [
    "For convenience, we wrap the **search_complexes** method as **report** method that returns a dataframe with all relevant\n",
    "information"
   ]
  },
  {
   "cell_type": "code",
   "execution_count": 11,
   "metadata": {},
   "outputs": [
    {
     "data": {
      "text/html": [
       "<div>\n",
       "<style>\n",
       "    .dataframe thead tr:only-child th {\n",
       "        text-align: right;\n",
       "    }\n",
       "\n",
       "    .dataframe thead th {\n",
       "        text-align: left;\n",
       "    }\n",
       "\n",
       "    .dataframe tbody tr th {\n",
       "        vertical-align: top;\n",
       "    }\n",
       "</style>\n",
       "<table border=\"1\" class=\"dataframe\">\n",
       "  <thead>\n",
       "    <tr style=\"text-align: right;\">\n",
       "      <th></th>\n",
       "      <th>Found</th>\n",
       "      <th>Participants</th>\n",
       "      <th>Identifier</th>\n",
       "      <th>Name</th>\n",
       "      <th>Number found</th>\n",
       "      <th>Number of participants</th>\n",
       "      <th>Complete</th>\n",
       "    </tr>\n",
       "  </thead>\n",
       "  <tbody>\n",
       "    <tr>\n",
       "      <th>0</th>\n",
       "      <td>Q01955;P53420;P29400</td>\n",
       "      <td>Q01955;P53420;P29400</td>\n",
       "      <td>EBI-2461456</td>\n",
       "      <td>Collagen type IV trimer variant 3</td>\n",
       "      <td>3</td>\n",
       "      <td>3</td>\n",
       "      <td>True</td>\n",
       "    </tr>\n",
       "    <tr>\n",
       "      <th>1</th>\n",
       "      <td>CHEBI:18420</td>\n",
       "      <td>CHEBI:29034;P23921;Q7LG56;CHEBI:18420</td>\n",
       "      <td>EBI-11617933</td>\n",
       "      <td>Ribonucleoside-diphosphate reductase RR1 compl...</td>\n",
       "      <td>1</td>\n",
       "      <td>4</td>\n",
       "      <td>False</td>\n",
       "    </tr>\n",
       "    <tr>\n",
       "      <th>2</th>\n",
       "      <td>P51553;P50213</td>\n",
       "      <td>P51553;P50213;O43837;CHEBI:60240</td>\n",
       "      <td>EBI-1210989</td>\n",
       "      <td>Mitochondrial isocitrate dehydrogenase complex...</td>\n",
       "      <td>2</td>\n",
       "      <td>4</td>\n",
       "      <td>False</td>\n",
       "    </tr>\n",
       "    <tr>\n",
       "      <th>3</th>\n",
       "      <td>CHEBI:18420</td>\n",
       "      <td>CHEBI:29034;P31350;P23921;CHEBI:18420</td>\n",
       "      <td>EBI-9009096</td>\n",
       "      <td>Ribonucleoside-diphosphate reductase RR1 compl...</td>\n",
       "      <td>1</td>\n",
       "      <td>4</td>\n",
       "      <td>False</td>\n",
       "    </tr>\n",
       "    <tr>\n",
       "      <th>4</th>\n",
       "      <td>CHEBI:18420</td>\n",
       "      <td>CHEBI:29034;P11157;P07742;CHEBI:18420</td>\n",
       "      <td>EBI-11618185</td>\n",
       "      <td>Ribonucleoside-diphosphate reductase RR1 compl...</td>\n",
       "      <td>1</td>\n",
       "      <td>4</td>\n",
       "      <td>False</td>\n",
       "    </tr>\n",
       "    <tr>\n",
       "      <th>5</th>\n",
       "      <td>CHEBI:18420</td>\n",
       "      <td>P11177;P08559;CHEBI:18420;CHEBI:58937</td>\n",
       "      <td>EBI-1163476</td>\n",
       "      <td>Pyruvate dehydrogenase E1 heterotetramer</td>\n",
       "      <td>1</td>\n",
       "      <td>4</td>\n",
       "      <td>False</td>\n",
       "    </tr>\n",
       "    <tr>\n",
       "      <th>6</th>\n",
       "      <td>CHEBI:18420</td>\n",
       "      <td>P35486;Q9D051;CHEBI:18420;CHEBI:58937</td>\n",
       "      <td>EBI-1163757</td>\n",
       "      <td>Pyruvate dehydrogenase E1 heterotetramer</td>\n",
       "      <td>1</td>\n",
       "      <td>4</td>\n",
       "      <td>False</td>\n",
       "    </tr>\n",
       "    <tr>\n",
       "      <th>7</th>\n",
       "      <td>P47985</td>\n",
       "      <td>P22695;P31930;P07919;P00156;O14957;Q9UDW1;P085...</td>\n",
       "      <td>EBI-1224506</td>\n",
       "      <td>Mitochondrial respiratory chain complex III</td>\n",
       "      <td>1</td>\n",
       "      <td>12</td>\n",
       "      <td>False</td>\n",
       "    </tr>\n",
       "    <tr>\n",
       "      <th>8</th>\n",
       "      <td>CHEBI:18420</td>\n",
       "      <td>CHEBI:29034;Q6PEE3;P07742;CHEBI:18420</td>\n",
       "      <td>EBI-11618268</td>\n",
       "      <td>Ribonucleoside-diphosphate reductase RR1 compl...</td>\n",
       "      <td>1</td>\n",
       "      <td>4</td>\n",
       "      <td>False</td>\n",
       "    </tr>\n",
       "    <tr>\n",
       "      <th>9</th>\n",
       "      <td>CHEBI:18420</td>\n",
       "      <td>CHEBI:16238;P25605;P07342;CHEBI:9532;CHEBI:18420</td>\n",
       "      <td>EBI-9301700</td>\n",
       "      <td>Acetolactate synthase complex</td>\n",
       "      <td>1</td>\n",
       "      <td>5</td>\n",
       "      <td>False</td>\n",
       "    </tr>\n",
       "    <tr>\n",
       "      <th>10</th>\n",
       "      <td>P29400</td>\n",
       "      <td>Q14031;P29400</td>\n",
       "      <td>EBI-2461418</td>\n",
       "      <td>Collagen type IV trimer variant 2</td>\n",
       "      <td>1</td>\n",
       "      <td>2</td>\n",
       "      <td>False</td>\n",
       "    </tr>\n",
       "    <tr>\n",
       "      <th>11</th>\n",
       "      <td>CHEBI:18420</td>\n",
       "      <td>P26284;P49432;CHEBI:18420;CHEBI:58937</td>\n",
       "      <td>EBI-1163785</td>\n",
       "      <td>Pyruvate dehydrogenase E1 heterotetramer</td>\n",
       "      <td>1</td>\n",
       "      <td>4</td>\n",
       "      <td>False</td>\n",
       "    </tr>\n",
       "  </tbody>\n",
       "</table>\n",
       "</div>"
      ],
      "text/plain": [
       "                   Found                                       Participants  \\\n",
       "0   Q01955;P53420;P29400                               Q01955;P53420;P29400   \n",
       "1            CHEBI:18420              CHEBI:29034;P23921;Q7LG56;CHEBI:18420   \n",
       "2          P51553;P50213                   P51553;P50213;O43837;CHEBI:60240   \n",
       "3            CHEBI:18420              CHEBI:29034;P31350;P23921;CHEBI:18420   \n",
       "4            CHEBI:18420              CHEBI:29034;P11157;P07742;CHEBI:18420   \n",
       "5            CHEBI:18420              P11177;P08559;CHEBI:18420;CHEBI:58937   \n",
       "6            CHEBI:18420              P35486;Q9D051;CHEBI:18420;CHEBI:58937   \n",
       "7                 P47985  P22695;P31930;P07919;P00156;O14957;Q9UDW1;P085...   \n",
       "8            CHEBI:18420              CHEBI:29034;Q6PEE3;P07742;CHEBI:18420   \n",
       "9            CHEBI:18420   CHEBI:16238;P25605;P07342;CHEBI:9532;CHEBI:18420   \n",
       "10                P29400                                      Q14031;P29400   \n",
       "11           CHEBI:18420              P26284;P49432;CHEBI:18420;CHEBI:58937   \n",
       "\n",
       "      Identifier                                               Name  \\\n",
       "0    EBI-2461456                  Collagen type IV trimer variant 3   \n",
       "1   EBI-11617933  Ribonucleoside-diphosphate reductase RR1 compl...   \n",
       "2    EBI-1210989  Mitochondrial isocitrate dehydrogenase complex...   \n",
       "3    EBI-9009096  Ribonucleoside-diphosphate reductase RR1 compl...   \n",
       "4   EBI-11618185  Ribonucleoside-diphosphate reductase RR1 compl...   \n",
       "5    EBI-1163476           Pyruvate dehydrogenase E1 heterotetramer   \n",
       "6    EBI-1163757           Pyruvate dehydrogenase E1 heterotetramer   \n",
       "7    EBI-1224506        Mitochondrial respiratory chain complex III   \n",
       "8   EBI-11618268  Ribonucleoside-diphosphate reductase RR1 compl...   \n",
       "9    EBI-9301700                      Acetolactate synthase complex   \n",
       "10   EBI-2461418                  Collagen type IV trimer variant 2   \n",
       "11   EBI-1163785           Pyruvate dehydrogenase E1 heterotetramer   \n",
       "\n",
       "    Number found  Number of participants  Complete  \n",
       "0              3                       3      True  \n",
       "1              1                       4     False  \n",
       "2              2                       4     False  \n",
       "3              1                       4     False  \n",
       "4              1                       4     False  \n",
       "5              1                       4     False  \n",
       "6              1                       4     False  \n",
       "7              1                      12     False  \n",
       "8              1                       4     False  \n",
       "9              1                       5     False  \n",
       "10             1                       2     False  \n",
       "11             1                       4     False  "
      ]
     },
     "execution_count": 11,
     "metadata": {},
     "output_type": "execute_result"
    }
   ],
   "source": [
    "c.report(user_species)"
   ]
  },
  {
   "cell_type": "markdown",
   "metadata": {},
   "source": [
    "#### Other utilities"
   ]
  },
  {
   "cell_type": "markdown",
   "metadata": {},
   "source": [
    "Instead of looking at a set of proteins, you can search for a given one \n",
    "to figure out if it is included in the database at all"
   ]
  },
  {
   "cell_type": "code",
   "execution_count": 12,
   "metadata": {},
   "outputs": [
    {
     "name": "stderr",
     "output_type": "stream",
     "text": [
      "INFO:root:Found P51553 in complex EBI-1210989 (['P51553', 'P50213', 'O43837', 'CHEBI:60240'])\n"
     ]
    },
    {
     "data": {
      "text/plain": [
       "['EBI-1210989']"
      ]
     },
     "execution_count": 12,
     "metadata": {},
     "output_type": "execute_result"
    }
   ],
   "source": [
    "# search for a given species\n",
    "c.search('P51553')"
   ]
  },
  {
   "cell_type": "markdown",
   "metadata": {},
   "source": [
    "Some participants are actually not protein but chemical compounds (e.g. magnesium), which are provided as ChEBI\n",
    "identifiers. Again, we use here BioServices behind the scene and provide a small method to get the name of ChEBI identifier"
   ]
  },
  {
   "cell_type": "code",
   "execution_count": 13,
   "metadata": {},
   "outputs": [
    {
     "data": {
      "text/plain": [
       "magnesium(2+)"
      ]
     },
     "execution_count": 13,
     "metadata": {},
     "output_type": "execute_result"
    }
   ],
   "source": [
    "c.chebi2name('CHEBI:18420')"
   ]
  },
  {
   "cell_type": "markdown",
   "metadata": {},
   "source": [
    "Similarly, protein are encoded as accession number, which can be translated in list of possible gene names mas follows"
   ]
  },
  {
   "cell_type": "code",
   "execution_count": 14,
   "metadata": {},
   "outputs": [
    {
     "data": {
      "text/plain": [
       "['PDGFRA PDGFR2 RHEPDGFRA']"
      ]
     },
     "execution_count": 14,
     "metadata": {},
     "output_type": "execute_result"
    }
   ],
   "source": [
    "c.uniprot2genename('P16234')"
   ]
  },
  {
   "cell_type": "markdown",
   "metadata": {},
   "source": [
    "Finally, all details about a complex can be retrieved by looking at the dictionary **complexes**"
   ]
  },
  {
   "cell_type": "code",
   "execution_count": 15,
   "metadata": {},
   "outputs": [
    {
     "data": {
      "text/plain": [
       "'Mitochondrial respiratory chain complex III'"
      ]
     },
     "execution_count": 15,
     "metadata": {},
     "output_type": "execute_result"
    }
   ],
   "source": [
    "c.complexes['EBI-1224506']['name']"
   ]
  },
  {
   "cell_type": "markdown",
   "metadata": {},
   "source": [
    "### Reproductibility"
   ]
  },
  {
   "cell_type": "code",
   "execution_count": 16,
   "metadata": {},
   "outputs": [
    {
     "name": "stdout",
     "output_type": "stream",
     "text": [
      "grequests 0.3.0\n",
      "colorama 0.3.7\n",
      "biokit 0.4.1\n",
      "requests-cache 0.4.10\n",
      "greenlet 0.4.12\n",
      "numpydoc 0.6.0\n",
      "suds-jurko 0.6\n",
      "xmltodict 0.9.2\n",
      "easydev 0.9.35\n",
      "scipy 0.18.1\n",
      "pandas 0.20.3\n",
      "colormap 1.0.1\n",
      "gevent 1.1rc4\n",
      "appdirs 1.4.0\n",
      "bioservices 1.4.18\n",
      "six 1.10.0\n",
      "numpy 1.10.4\n",
      "wrapt 1.10.10\n",
      "python-dateutil 2.6.0\n",
      "colorlog 2.10.0\n",
      "requests 2.10.0\n",
      "pexpect 4.2.1\n",
      "beautifulsoup4 4.5.3\n",
      "pytz 2017.2\n"
     ]
    }
   ],
   "source": [
    "import easydev\n",
    "for x in easydev.dependencies.get_dependencies('biokit'):\n",
    "    print(x)"
   ]
  },
  {
   "cell_type": "code",
   "execution_count": 16,
   "metadata": {},
   "outputs": [],
   "source": []
  }
 ],
 "metadata": {
  "kernelspec": {
   "display_name": "Python 3",
   "language": "python",
   "name": "python3"
  },
  "language_info": {
   "codemirror_mode": {
    "name": "ipython",
    "version": 3
   },
   "file_extension": ".py",
   "mimetype": "text/x-python",
   "name": "python",
   "nbconvert_exporter": "python",
   "pygments_lexer": "ipython3",
   "version": "3.5.3"
  }
 },
 "nbformat": 4,
 "nbformat_minor": 1
}
