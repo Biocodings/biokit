{
 "cells": [
  {
   "cell_type": "markdown",
   "metadata": {},
   "source": [
    "# Identifying Complexes in your Network of Protein-Protein Interactions\n"
   ]
  },
  {
   "cell_type": "markdown",
   "metadata": {},
   "source": [
    "**Contact: **\n",
    "\n",
    "-   http://github.com/cokelaer\n",
    "-   http://thomas-cokelaer.info\n",
    "\n",
    "**Date:** Feb 2015"
   ]
  },
  {
   "cell_type": "markdown",
   "metadata": {},
   "source": [
    "## Introduction\n",
    "\n",
    "The assumption is that you have a network of protein-protein interactions, from which you know the protein names by their\n",
    "uniprot accession number (e.g., P43403)\n",
    "\n",
    "You can have for instance a network in various formats (e.g., SIF, SBSMLQual), in which case you may be interested to \n",
    "look at http://github.com/cellnopt/cellnopt . The SBMLqual format encodes network of proteins as logical gates (ORs and ANDs). One issue is how to you know thata logical gate is an AND. You can try all combinations and optimise the network to some data like in CellNOpt analysis. Another way is to use databases of complexes to identify such AND gates. \n",
    "\n",
    "Here below, we use the **Complexes** class that will take as input a list of UniProt identifiers and return possible logical AND gates. The database used being the scene is **Intact Complex. **"
   ]
  },
  {
   "cell_type": "markdown",
   "metadata": {},
   "source": [
    "First we import the module of interest to be found in biokit.networt.complexes"
   ]
  },
  {
   "cell_type": "code",
   "execution_count": 1,
   "metadata": {
    "collapsed": false
   },
   "outputs": [
    {
     "name": "stdout",
     "output_type": "stream",
     "text": [
      "Populating the interactive namespace from numpy and matplotlib\n"
     ]
    }
   ],
   "source": [
    "import biokit\n",
    "%pylab inline"
   ]
  },
  {
   "cell_type": "code",
   "execution_count": 9,
   "metadata": {
    "collapsed": false
   },
   "outputs": [],
   "source": [
    "from biokit.network import complexes"
   ]
  },
  {
   "cell_type": "markdown",
   "metadata": {},
   "source": [
    "We create an instance setting the cache to True. This is an option fro BioServices that create a\n",
    "local file to speed up future requests. You can set it to False if you do not want to create local\n",
    "cache files. The code will take about 30 seconds to run. If you use the cache, next time it will take half a second.\n"
   ]
  },
  {
   "cell_type": "code",
   "execution_count": 10,
   "metadata": {
    "collapsed": false
   },
   "outputs": [
    {
     "name": "stderr",
     "output_type": "stream",
     "text": [
      "INFO:root:Initialising IntactComplex service (REST)\n",
      "INFO:root:Using local cache /home/cokelaer/.config/bioservices/IntactComplex_bioservices_db\n"
     ]
    },
    {
     "name": "stdout",
     "output_type": "stream",
     "text": [
      "Organism not set yet. \n"
     ]
    }
   ],
   "source": [
    "c = complexes.Complexes(cache=True)"
   ]
  },
  {
   "cell_type": "markdown",
   "metadata": {},
   "source": [
    "By default the organism selected is *Homo sapiens*. Complexes for the Intact Complex database are not stored internally.\n",
    "As an example, you can plot the histogram of number of participants (protein) within each complexes "
   ]
  },
  {
   "cell_type": "code",
   "execution_count": 11,
   "metadata": {
    "collapsed": false
   },
   "outputs": [
    {
     "name": "stderr",
     "output_type": "stream",
     "text": [
      "INFO:root:Loading all details from the IntactComplex database\n"
     ]
    },
    {
     "name": "stdout",
     "output_type": "stream",
     "text": [
      " [-                 3%                  ] 56 of 1467 complete in 0.2 sec"
     ]
    },
    {
     "name": "stderr",
     "output_type": "stream",
     "text": [
      "INFO:requests.packages.urllib3.connectionpool:Starting new HTTP connection (1): www.ebi.ac.uk\n"
     ]
    },
    {
     "name": "stdout",
     "output_type": "stream",
     "text": [
      " [-----------------100%-----------------] 1467 of 1467 complete in 202.8 sec"
     ]
    },
    {
     "data": {
      "image/png": "[encoded data removed]",
      "text/plain": [
       "<matplotlib.figure.Figure at 0x7fcdb14af198>"
      ]
     },
     "metadata": {},
     "output_type": "display_data"
    }
   ],
   "source": [
    "count = c.hist_participants()"
   ]
  },
  {
   "cell_type": "markdown",
   "metadata": {},
   "source": [
    "Further analysis can be shown here below by focusing on the participants \n",
    "themselves: how many occurences, how many unique proteins."
   ]
  },
  {
   "cell_type": "code",
   "execution_count": 12,
   "metadata": {
    "collapsed": false
   },
   "outputs": [
    {
     "name": "stdout",
     "output_type": "stream",
     "text": [
      "There are 1467 complexes involving 4506 participants with 2949 unique species. \n"
     ]
    },
    {
     "data": {
      "image/png": "[encoded data removed]",
      "text/plain": [
       "<matplotlib.figure.Figure at 0x7fcdb14c0b70>"
      ]
     },
     "metadata": {},
     "output_type": "display_data"
    }
   ],
   "source": [
    "c.stats()"
   ]
  },
  {
   "cell_type": "markdown",
   "metadata": {},
   "source": [
    "Some complexes are actually homodimers, which we may want to ignore"
   ]
  },
  {
   "cell_type": "code",
   "execution_count": 13,
   "metadata": {
    "collapsed": false
   },
   "outputs": [
    {
     "name": "stderr",
     "output_type": "stream",
     "text": [
      "INFO:root:removing 233 homodimers complexes\n"
     ]
    }
   ],
   "source": [
    "_ = c.remove_homodimers()"
   ]
  },
  {
   "cell_type": "code",
   "execution_count": 14,
   "metadata": {
    "collapsed": false
   },
   "outputs": [
    {
     "name": "stdout",
     "output_type": "stream",
     "text": [
      "There are 1234 complexes involving 4273 participants with 2800 unique species. \n"
     ]
    },
    {
     "data": {
      "image/png": "[encoded data removed]",
      "text/plain": [
       "<matplotlib.figure.Figure at 0x7fcdafa3e1d0>"
      ]
     },
     "metadata": {},
     "output_type": "display_data"
    }
   ],
   "source": [
    "c.stats()"
   ]
  },
  {
   "cell_type": "markdown",
   "metadata": {},
   "source": [
    "### Looking for complexes (AND gates)"
   ]
  },
  {
   "cell_type": "markdown",
   "metadata": {},
   "source": [
    "We must provide a list if uniprot identifiers. Here is an example. The output of the **search** function is then\n",
    "two fold:\n",
    "    \n",
    "   - dictionary containing the complexes for whic all participants are included in the user list of proteins\n",
    "   - dictionary containing the complexes for which some participants are included in the user list of proteins (partial)"
   ]
  },
  {
   "cell_type": "code",
   "execution_count": 15,
   "metadata": {
    "collapsed": false
   },
   "outputs": [
    {
     "name": "stderr",
     "output_type": "stream",
     "text": [
      "INFO:root:Found partial complex EBI-1163785 with 1 participants out of 4\n",
      "INFO:root:Found partial complex EBI-11618185 with 1 participants out of 4\n",
      "INFO:root:Found entire complex EBI-2461456 \n",
      "INFO:root:Found partial complex EBI-9009096 with 1 participants out of 4\n",
      "INFO:root:Found partial complex EBI-9301700 with 1 participants out of 5\n",
      "INFO:root:Found partial complex EBI-11618268 with 1 participants out of 4\n",
      "INFO:root:Found partial complex EBI-1224506 with 1 participants out of 12\n",
      "INFO:root:Found partial complex EBI-1210989 with 2 participants out of 4\n",
      "INFO:root:Found partial complex EBI-11617933 with 1 participants out of 4\n",
      "INFO:root:Found partial complex EBI-1163757 with 1 participants out of 4\n",
      "INFO:root:Found partial complex EBI-2461418 with 1 participants out of 2\n",
      "INFO:root:Found partial complex EBI-1163476 with 1 participants out of 4\n"
     ]
    }
   ],
   "source": [
    "user_species = ['P51234', 'P11111', 'P22222', 'P33333', u'P51553', \n",
    "                 u'P50213', 'Q01955', 'P53420', u'P29400', 'Q8TD08', 'P47985', 'CHEBI:18420']\n",
    "and_gates, subset = c.search_complexes(user_species, verbose=True)"
   ]
  },
  {
   "cell_type": "code",
   "execution_count": 16,
   "metadata": {
    "collapsed": false
   },
   "outputs": [
    {
     "data": {
      "text/plain": [
       "{'EBI-2461456': ['Q01955', 'P53420', 'P29400']}"
      ]
     },
     "execution_count": 16,
     "metadata": {},
     "output_type": "execute_result"
    }
   ],
   "source": [
    "and_gates"
   ]
  },
  {
   "cell_type": "code",
   "execution_count": 17,
   "metadata": {
    "collapsed": false
   },
   "outputs": [
    {
     "data": {
      "text/plain": [
       "{'EBI-11617933': {'found': ['CHEBI:18420'],\n",
       "  'participants': ['CHEBI:29034', 'P23921', 'Q7LG56', 'CHEBI:18420']},\n",
       " 'EBI-11618185': {'found': ['CHEBI:18420'],\n",
       "  'participants': ['CHEBI:29034', 'P11157', 'P07742', 'CHEBI:18420']},\n",
       " 'EBI-11618268': {'found': ['CHEBI:18420'],\n",
       "  'participants': ['CHEBI:29034', 'Q6PEE3', 'P07742', 'CHEBI:18420']},\n",
       " 'EBI-1163476': {'found': ['CHEBI:18420'],\n",
       "  'participants': ['P11177', 'P08559', 'CHEBI:18420', 'CHEBI:58937']},\n",
       " 'EBI-1163757': {'found': ['CHEBI:18420'],\n",
       "  'participants': ['P35486', 'Q9D051', 'CHEBI:18420', 'CHEBI:58937']},\n",
       " 'EBI-1163785': {'found': ['CHEBI:18420'],\n",
       "  'participants': ['P26284', 'P49432', 'CHEBI:18420', 'CHEBI:58937']},\n",
       " 'EBI-1210989': {'found': ['P51553', 'P50213'],\n",
       "  'participants': ['P51553', 'P50213', 'O43837', 'CHEBI:60240']},\n",
       " 'EBI-1224506': {'found': ['P47985'],\n",
       "  'participants': ['P22695',\n",
       "   'P31930',\n",
       "   'P07919',\n",
       "   'P00156',\n",
       "   'O14957',\n",
       "   'Q9UDW1',\n",
       "   'P08574',\n",
       "   'CHEBI:30408',\n",
       "   'O14949',\n",
       "   'P14927',\n",
       "   'P47985-PRO_0000307241',\n",
       "   'P47985-PRO_0000030664']},\n",
       " 'EBI-2461418': {'found': ['P29400'], 'participants': ['Q14031', 'P29400']},\n",
       " 'EBI-9009096': {'found': ['CHEBI:18420'],\n",
       "  'participants': ['CHEBI:29034', 'P31350', 'P23921', 'CHEBI:18420']},\n",
       " 'EBI-9301700': {'found': ['CHEBI:18420'],\n",
       "  'participants': ['CHEBI:16238',\n",
       "   'P25605',\n",
       "   'P07342',\n",
       "   'CHEBI:9532',\n",
       "   'CHEBI:18420']}}"
      ]
     },
     "execution_count": 17,
     "metadata": {},
     "output_type": "execute_result"
    }
   ],
   "source": [
    "subset"
   ]
  },
  {
   "cell_type": "markdown",
   "metadata": {},
   "source": [
    "For convenience, we wrap the **search_complexes** method as **report** method that returns a dataframe with all relevant\n",
    "information"
   ]
  },
  {
   "cell_type": "code",
   "execution_count": 18,
   "metadata": {
    "collapsed": false
   },
   "outputs": [
    {
     "data": {
      "text/html": [
       "<div>\n",
       "<table border=\"1\" class=\"dataframe\">\n",
       "  <thead>\n",
       "    <tr style=\"text-align: right;\">\n",
       "      <th></th>\n",
       "      <th>Found</th>\n",
       "      <th>Participants</th>\n",
       "      <th>Identifier</th>\n",
       "      <th>Name</th>\n",
       "      <th>Number found</th>\n",
       "      <th>Number of participants</th>\n",
       "      <th>Complete</th>\n",
       "    </tr>\n",
       "  </thead>\n",
       "  <tbody>\n",
       "    <tr>\n",
       "      <th>0</th>\n",
       "      <td>Q01955;P53420;P29400</td>\n",
       "      <td>Q01955;P53420;P29400</td>\n",
       "      <td>EBI-2461456</td>\n",
       "      <td>Collagen type IV trimer variant 3</td>\n",
       "      <td>3</td>\n",
       "      <td>3</td>\n",
       "      <td>True</td>\n",
       "    </tr>\n",
       "    <tr>\n",
       "      <th>1</th>\n",
       "      <td>CHEBI:18420</td>\n",
       "      <td>CHEBI:29034;P23921;Q7LG56;CHEBI:18420</td>\n",
       "      <td>EBI-11617933</td>\n",
       "      <td>Ribonucleoside-diphosphate reductase RR1 compl...</td>\n",
       "      <td>1</td>\n",
       "      <td>4</td>\n",
       "      <td>False</td>\n",
       "    </tr>\n",
       "    <tr>\n",
       "      <th>2</th>\n",
       "      <td>CHEBI:18420</td>\n",
       "      <td>P11177;P08559;CHEBI:18420;CHEBI:58937</td>\n",
       "      <td>EBI-1163476</td>\n",
       "      <td>Pyruvate dehydrogenase E1 heterotetramer</td>\n",
       "      <td>1</td>\n",
       "      <td>4</td>\n",
       "      <td>False</td>\n",
       "    </tr>\n",
       "    <tr>\n",
       "      <th>3</th>\n",
       "      <td>CHEBI:18420</td>\n",
       "      <td>P35486;Q9D051;CHEBI:18420;CHEBI:58937</td>\n",
       "      <td>EBI-1163757</td>\n",
       "      <td>Pyruvate dehydrogenase E1 heterotetramer</td>\n",
       "      <td>1</td>\n",
       "      <td>4</td>\n",
       "      <td>False</td>\n",
       "    </tr>\n",
       "    <tr>\n",
       "      <th>4</th>\n",
       "      <td>P47985</td>\n",
       "      <td>P22695;P31930;P07919;P00156;O14957;Q9UDW1;P085...</td>\n",
       "      <td>EBI-1224506</td>\n",
       "      <td>Mitochondrial respiratory chain complex III</td>\n",
       "      <td>1</td>\n",
       "      <td>12</td>\n",
       "      <td>False</td>\n",
       "    </tr>\n",
       "    <tr>\n",
       "      <th>5</th>\n",
       "      <td>CHEBI:18420</td>\n",
       "      <td>CHEBI:29034;Q6PEE3;P07742;CHEBI:18420</td>\n",
       "      <td>EBI-11618268</td>\n",
       "      <td>Ribonucleoside-diphosphate reductase RR1 compl...</td>\n",
       "      <td>1</td>\n",
       "      <td>4</td>\n",
       "      <td>False</td>\n",
       "    </tr>\n",
       "    <tr>\n",
       "      <th>6</th>\n",
       "      <td>CHEBI:18420</td>\n",
       "      <td>CHEBI:29034;P11157;P07742;CHEBI:18420</td>\n",
       "      <td>EBI-11618185</td>\n",
       "      <td>Ribonucleoside-diphosphate reductase RR1 compl...</td>\n",
       "      <td>1</td>\n",
       "      <td>4</td>\n",
       "      <td>False</td>\n",
       "    </tr>\n",
       "    <tr>\n",
       "      <th>7</th>\n",
       "      <td>P29400</td>\n",
       "      <td>Q14031;P29400</td>\n",
       "      <td>EBI-2461418</td>\n",
       "      <td>Collagen type IV trimer variant 2</td>\n",
       "      <td>1</td>\n",
       "      <td>2</td>\n",
       "      <td>False</td>\n",
       "    </tr>\n",
       "    <tr>\n",
       "      <th>8</th>\n",
       "      <td>P51553;P50213</td>\n",
       "      <td>P51553;P50213;O43837;CHEBI:60240</td>\n",
       "      <td>EBI-1210989</td>\n",
       "      <td>Mitochondrial isocitrate dehydrogenase complex...</td>\n",
       "      <td>2</td>\n",
       "      <td>4</td>\n",
       "      <td>False</td>\n",
       "    </tr>\n",
       "    <tr>\n",
       "      <th>9</th>\n",
       "      <td>CHEBI:18420</td>\n",
       "      <td>P26284;P49432;CHEBI:18420;CHEBI:58937</td>\n",
       "      <td>EBI-1163785</td>\n",
       "      <td>Pyruvate dehydrogenase E1 heterotetramer</td>\n",
       "      <td>1</td>\n",
       "      <td>4</td>\n",
       "      <td>False</td>\n",
       "    </tr>\n",
       "    <tr>\n",
       "      <th>10</th>\n",
       "      <td>CHEBI:18420</td>\n",
       "      <td>CHEBI:16238;P25605;P07342;CHEBI:9532;CHEBI:18420</td>\n",
       "      <td>EBI-9301700</td>\n",
       "      <td>Acetolactate synthase complex</td>\n",
       "      <td>1</td>\n",
       "      <td>5</td>\n",
       "      <td>False</td>\n",
       "    </tr>\n",
       "    <tr>\n",
       "      <th>11</th>\n",
       "      <td>CHEBI:18420</td>\n",
       "      <td>CHEBI:29034;P31350;P23921;CHEBI:18420</td>\n",
       "      <td>EBI-9009096</td>\n",
       "      <td>Ribonucleoside-diphosphate reductase RR1 compl...</td>\n",
       "      <td>1</td>\n",
       "      <td>4</td>\n",
       "      <td>False</td>\n",
       "    </tr>\n",
       "  </tbody>\n",
       "</table>\n",
       "</div>"
      ],
      "text/plain": [
       "                   Found                                       Participants  \\\n",
       "0   Q01955;P53420;P29400                               Q01955;P53420;P29400   \n",
       "1            CHEBI:18420              CHEBI:29034;P23921;Q7LG56;CHEBI:18420   \n",
       "2            CHEBI:18420              P11177;P08559;CHEBI:18420;CHEBI:58937   \n",
       "3            CHEBI:18420              P35486;Q9D051;CHEBI:18420;CHEBI:58937   \n",
       "4                 P47985  P22695;P31930;P07919;P00156;O14957;Q9UDW1;P085...   \n",
       "5            CHEBI:18420              CHEBI:29034;Q6PEE3;P07742;CHEBI:18420   \n",
       "6            CHEBI:18420              CHEBI:29034;P11157;P07742;CHEBI:18420   \n",
       "7                 P29400                                      Q14031;P29400   \n",
       "8          P51553;P50213                   P51553;P50213;O43837;CHEBI:60240   \n",
       "9            CHEBI:18420              P26284;P49432;CHEBI:18420;CHEBI:58937   \n",
       "10           CHEBI:18420   CHEBI:16238;P25605;P07342;CHEBI:9532;CHEBI:18420   \n",
       "11           CHEBI:18420              CHEBI:29034;P31350;P23921;CHEBI:18420   \n",
       "\n",
       "      Identifier                                               Name  \\\n",
       "0    EBI-2461456                  Collagen type IV trimer variant 3   \n",
       "1   EBI-11617933  Ribonucleoside-diphosphate reductase RR1 compl...   \n",
       "2    EBI-1163476           Pyruvate dehydrogenase E1 heterotetramer   \n",
       "3    EBI-1163757           Pyruvate dehydrogenase E1 heterotetramer   \n",
       "4    EBI-1224506        Mitochondrial respiratory chain complex III   \n",
       "5   EBI-11618268  Ribonucleoside-diphosphate reductase RR1 compl...   \n",
       "6   EBI-11618185  Ribonucleoside-diphosphate reductase RR1 compl...   \n",
       "7    EBI-2461418                  Collagen type IV trimer variant 2   \n",
       "8    EBI-1210989  Mitochondrial isocitrate dehydrogenase complex...   \n",
       "9    EBI-1163785           Pyruvate dehydrogenase E1 heterotetramer   \n",
       "10   EBI-9301700                      Acetolactate synthase complex   \n",
       "11   EBI-9009096  Ribonucleoside-diphosphate reductase RR1 compl...   \n",
       "\n",
       "    Number found  Number of participants Complete  \n",
       "0              3                       3     True  \n",
       "1              1                       4    False  \n",
       "2              1                       4    False  \n",
       "3              1                       4    False  \n",
       "4              1                      12    False  \n",
       "5              1                       4    False  \n",
       "6              1                       4    False  \n",
       "7              1                       2    False  \n",
       "8              2                       4    False  \n",
       "9              1                       4    False  \n",
       "10             1                       5    False  \n",
       "11             1                       4    False  "
      ]
     },
     "execution_count": 18,
     "metadata": {},
     "output_type": "execute_result"
    }
   ],
   "source": [
    "c.report(user_species)"
   ]
  },
  {
   "cell_type": "markdown",
   "metadata": {},
   "source": [
    "#### Other utilities"
   ]
  },
  {
   "cell_type": "markdown",
   "metadata": {},
   "source": [
    "Instead of looking at a set of proteins, you can search for a given one \n",
    "to figure out if it is included in the database at all"
   ]
  },
  {
   "cell_type": "code",
   "execution_count": 19,
   "metadata": {
    "collapsed": false
   },
   "outputs": [
    {
     "name": "stderr",
     "output_type": "stream",
     "text": [
      "INFO:root:Found P51553 in complex EBI-1210989 (['P51553', 'P50213', 'O43837', 'CHEBI:60240'])\n"
     ]
    },
    {
     "data": {
      "text/plain": [
       "['EBI-1210989']"
      ]
     },
     "execution_count": 19,
     "metadata": {},
     "output_type": "execute_result"
    }
   ],
   "source": [
    "# search for a given species\n",
    "c.search('P51553')"
   ]
  },
  {
   "cell_type": "markdown",
   "metadata": {},
   "source": [
    "Some participants are actually not protein but chemical compounds (e.g. magnesium), which are provided as ChEBI\n",
    "identifiers. Again, we use here BioServices behind the scene and provide a small method to get the name of ChEBI identifier"
   ]
  },
  {
   "cell_type": "code",
   "execution_count": 20,
   "metadata": {
    "collapsed": false
   },
   "outputs": [
    {
     "data": {
      "text/plain": [
       "magnesium(2+)"
      ]
     },
     "execution_count": 20,
     "metadata": {},
     "output_type": "execute_result"
    }
   ],
   "source": [
    "c.chebi2name('CHEBI:18420')"
   ]
  },
  {
   "cell_type": "markdown",
   "metadata": {},
   "source": [
    "Similarly, protein are encoded as accession number, which can be translated in list of possible gene names mas follows"
   ]
  },
  {
   "cell_type": "code",
   "execution_count": 21,
   "metadata": {
    "collapsed": false
   },
   "outputs": [
    {
     "data": {
      "text/plain": [
       "['PDGFRA PDGFR2 RHEPDGFRA']"
      ]
     },
     "execution_count": 21,
     "metadata": {},
     "output_type": "execute_result"
    }
   ],
   "source": [
    "c.uniprot2genename('P16234')"
   ]
  },
  {
   "cell_type": "markdown",
   "metadata": {},
   "source": [
    "Finally, all details about a complex can be retrieved by looking at the dictionary **complexes**"
   ]
  },
  {
   "cell_type": "code",
   "execution_count": 22,
   "metadata": {
    "collapsed": false
   },
   "outputs": [
    {
     "data": {
      "text/plain": [
       "'Mitochondrial respiratory chain complex III'"
      ]
     },
     "execution_count": 22,
     "metadata": {},
     "output_type": "execute_result"
    }
   ],
   "source": [
    "c.complexes['EBI-1224506']['name']"
   ]
  },
  {
   "cell_type": "markdown",
   "metadata": {},
   "source": [
    "### Reproductibility"
   ]
  },
  {
   "cell_type": "code",
   "execution_count": 23,
   "metadata": {
    "collapsed": false
   },
   "outputs": [
    {
     "name": "stdout",
     "output_type": "stream",
     "text": [
      "biokit 0.3.0\n",
      "grequests 0.3.0\n",
      "colorama 0.3.7\n",
      "greenlet 0.4.9\n",
      "requests-cache 0.4.12\n",
      "suds-jurko 0.6\n",
      "colormap 0.9.8\n",
      "easydev 0.9.21\n",
      "xmltodict 0.10.1\n",
      "scipy 0.17.1\n",
      "pandas 0.18.0\n",
      "gevent 1.1.1\n",
      "appdirs 1.4.0\n",
      "bioservices 1.4.11\n",
      "six 1.10.0\n",
      "wrapt 1.10.7\n",
      "numpy 1.11.0\n",
      "python-dateutil 2.5.2\n",
      "requests 2.9.1\n",
      "pexpect 4.0.1\n",
      "beautifulsoup4 4.4.1\n",
      "pytz 2016.3\n"
     ]
    }
   ],
   "source": [
    "import easydev\n",
    "for x in easydev.dependencies.get_dependencies('biokit'):\n",
    "    print(x)"
   ]
  },
  {
   "cell_type": "code",
   "execution_count": 16,
   "metadata": {
    "collapsed": false
   },
   "outputs": [],
   "source": []
  }
 ],
 "metadata": {
  "kernelspec": {
   "display_name": "Python 3",
   "language": "python",
   "name": "python3"
  },
  "language_info": {
   "codemirror_mode": {
    "name": "ipython",
    "version": 3
   },
   "file_extension": ".py",
   "mimetype": "text/x-python",
   "name": "python",
   "nbconvert_exporter": "python",
   "pygments_lexer": "ipython3",
   "version": "3.5.1"
  }
 },
 "nbformat": 4,
 "nbformat_minor": 0
}
