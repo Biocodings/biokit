{
 "cells": [
  {
   "cell_type": "markdown",
   "metadata": {},
   "source": [
    "Using online database (web resource) is possible in biokit. However, note\n",
    "that we use https://pypi.python.org/pypi/bioservices under the hook.\n",
    "\n",
    "In the example below, we show how to use EUtils service to access to different data\n",
    "sets but you can also access to many more databases amongst which:\n",
    "\n",
    "- uniprot\n",
    "- kegg\n",
    "- ensembl\n",
    "- chembl\n",
    "- and 20 more..."
   ]
  },
  {
   "cell_type": "code",
   "execution_count": 16,
   "metadata": {
    "collapsed": false
   },
   "outputs": [
    {
     "name": "stdout",
     "output_type": "stream",
     "text": [
      "Populating the interactive namespace from numpy and matplotlib\n"
     ]
    }
   ],
   "source": [
    "# referecence: NCBI website\n",
    "%pylab inline\n",
    "from biokit import EUtils\n",
    "from easydev import AttrDict"
   ]
  },
  {
   "cell_type": "code",
   "execution_count": 17,
   "metadata": {
    "collapsed": false
   },
   "outputs": [],
   "source": [
    "e = EUtils()"
   ]
  },
  {
   "cell_type": "code",
   "execution_count": 18,
   "metadata": {
    "collapsed": false
   },
   "outputs": [],
   "source": [
    "# access to the EUTils tools is restricted to 3 requests per second in principle. \n",
    "# Your email should be provided in e.email\n",
    "# e.email\n",
    "# or in the bioservices config file in ~/.config/bioservices/bioservices.cfg\n",
    "#[user]\n",
    "#email = yourname@somewhere\n",
    "\n"
   ]
  },
  {
   "cell_type": "code",
   "execution_count": 19,
   "metadata": {
    "collapsed": false
   },
   "outputs": [],
   "source": [
    "report = e.ESearch('nuccore', term='A/chicken/Hong+Kong/915/97+OR+A/chicken/Hong+Kong/915/1997', usehistory='y')"
   ]
  },
  {
   "cell_type": "code",
   "execution_count": 20,
   "metadata": {
    "collapsed": false
   },
   "outputs": [],
   "source": [
    "report = AttrDict(**report)"
   ]
  },
  {
   "cell_type": "code",
   "execution_count": 22,
   "metadata": {
    "collapsed": false
   },
   "outputs": [
    {
     "ename": "AttributeError",
     "evalue": "'dict' object has no attribute 'DocSum'",
     "output_type": "error",
     "traceback": [
      "\u001b[1;31m---------------------------------------------------------------------------\u001b[0m",
      "\u001b[1;31mAttributeError\u001b[0m                            Traceback (most recent call last)",
      "\u001b[1;32m<ipython-input-22-50d9b4da3e7e>\u001b[0m in \u001b[0;36m<module>\u001b[1;34m()\u001b[0m\n\u001b[0;32m      1\u001b[0m \u001b[1;32mimport\u001b[0m \u001b[0mpandas\u001b[0m \u001b[1;32mas\u001b[0m \u001b[0mpd\u001b[0m\u001b[1;33m\u001b[0m\u001b[0m\n\u001b[0;32m      2\u001b[0m \u001b[0msummary\u001b[0m \u001b[1;33m=\u001b[0m \u001b[0me\u001b[0m\u001b[1;33m.\u001b[0m\u001b[0mESummary\u001b[0m\u001b[1;33m(\u001b[0m\u001b[1;34m'nuccore'\u001b[0m\u001b[1;33m,\u001b[0m \u001b[0mWebEnv\u001b[0m\u001b[1;33m=\u001b[0m\u001b[0mreport\u001b[0m\u001b[1;33m.\u001b[0m\u001b[0mwebenv\u001b[0m\u001b[1;33m,\u001b[0m \u001b[0mquery_key\u001b[0m\u001b[1;33m=\u001b[0m\u001b[0mreport\u001b[0m\u001b[1;33m.\u001b[0m\u001b[0mquerykey\u001b[0m\u001b[1;33m)\u001b[0m\u001b[1;33m\u001b[0m\u001b[0m\n\u001b[1;32m----> 3\u001b[1;33m \u001b[0mlen\u001b[0m\u001b[1;33m(\u001b[0m\u001b[0msummary\u001b[0m\u001b[1;33m.\u001b[0m\u001b[0mDocSum\u001b[0m\u001b[1;33m)\u001b[0m\u001b[1;33m\u001b[0m\u001b[0m\n\u001b[0m",
      "\u001b[1;31mAttributeError\u001b[0m: 'dict' object has no attribute 'DocSum'"
     ]
    }
   ],
   "source": [
    "import pandas as pd\n",
    "summary = e.ESummary('nuccore', WebEnv=report.webenv, query_key=report.querykey)\n"
   ]
  },
  {
   "cell_type": "code",
   "execution_count": 25,
   "metadata": {
    "collapsed": false
   },
   "outputs": [],
   "source": [
    "uids = summary['uids']"
   ]
  },
  {
   "cell_type": "code",
   "execution_count": 27,
   "metadata": {
    "collapsed": false
   },
   "outputs": [
    {
     "data": {
      "text/html": [
       "<div>\n",
       "<table border=\"1\" class=\"dataframe\">\n",
       "  <thead>\n",
       "    <tr style=\"text-align: right;\">\n",
       "      <th></th>\n",
       "      <th>accession</th>\n",
       "      <th>description</th>\n",
       "      <th>ids</th>\n",
       "      <th>taxid</th>\n",
       "    </tr>\n",
       "  </thead>\n",
       "  <tbody>\n",
       "    <tr>\n",
       "      <th>0</th>\n",
       "      <td>AF098564.1</td>\n",
       "      <td>Influenza A virus (A/chicken/Hong Kong/915/97(...</td>\n",
       "      <td>gi|6048802|gb|AF098564.1|</td>\n",
       "      <td>100838</td>\n",
       "    </tr>\n",
       "    <tr>\n",
       "      <th>1</th>\n",
       "      <td>AF098620.1</td>\n",
       "      <td>Influenza A virus (A/chicken/Hong Kong/915/97(...</td>\n",
       "      <td>gi|6048927|gb|AF098620.1|</td>\n",
       "      <td>100838</td>\n",
       "    </tr>\n",
       "    <tr>\n",
       "      <th>2</th>\n",
       "      <td>AF098608.1</td>\n",
       "      <td>Influenza A virus (A/chicken/Hong Kong/915/97(...</td>\n",
       "      <td>gi|6048903|gb|AF098608.1|</td>\n",
       "      <td>100838</td>\n",
       "    </tr>\n",
       "    <tr>\n",
       "      <th>3</th>\n",
       "      <td>AF098594.1</td>\n",
       "      <td>Influenza A virus (A/chicken/Hong Kong/915/97(...</td>\n",
       "      <td>gi|6048875|gb|AF098594.1|</td>\n",
       "      <td>100838</td>\n",
       "    </tr>\n",
       "    <tr>\n",
       "      <th>4</th>\n",
       "      <td>AF098581.1</td>\n",
       "      <td>Influenza A virus (A/chicken/Hong Kong/915/97(...</td>\n",
       "      <td>gi|6048849|gb|AF098581.1|</td>\n",
       "      <td>100838</td>\n",
       "    </tr>\n",
       "    <tr>\n",
       "      <th>5</th>\n",
       "      <td>AF098573.1</td>\n",
       "      <td>Influenza A virus (A/chicken/Hong Kong/915/97(...</td>\n",
       "      <td>gi|6048829|gb|AF098573.1|</td>\n",
       "      <td>100838</td>\n",
       "    </tr>\n",
       "    <tr>\n",
       "      <th>6</th>\n",
       "      <td>AF098550.1</td>\n",
       "      <td>Influenza A virus (A/chicken/Hong Kong/915/97(...</td>\n",
       "      <td>gi|6048770|gb|AF098550.1|</td>\n",
       "      <td>100838</td>\n",
       "    </tr>\n",
       "    <tr>\n",
       "      <th>7</th>\n",
       "      <td>AF046100.1</td>\n",
       "      <td>Influenza A virus (A/chicken/Hong Kong/915/199...</td>\n",
       "      <td>gi|3421265|gb|AF046100.1|</td>\n",
       "      <td>380304</td>\n",
       "    </tr>\n",
       "  </tbody>\n",
       "</table>\n",
       "</div>"
      ],
      "text/plain": [
       "    accession                                        description  \\\n",
       "0  AF098564.1  Influenza A virus (A/chicken/Hong Kong/915/97(...   \n",
       "1  AF098620.1  Influenza A virus (A/chicken/Hong Kong/915/97(...   \n",
       "2  AF098608.1  Influenza A virus (A/chicken/Hong Kong/915/97(...   \n",
       "3  AF098594.1  Influenza A virus (A/chicken/Hong Kong/915/97(...   \n",
       "4  AF098581.1  Influenza A virus (A/chicken/Hong Kong/915/97(...   \n",
       "5  AF098573.1  Influenza A virus (A/chicken/Hong Kong/915/97(...   \n",
       "6  AF098550.1  Influenza A virus (A/chicken/Hong Kong/915/97(...   \n",
       "7  AF046100.1  Influenza A virus (A/chicken/Hong Kong/915/199...   \n",
       "\n",
       "                         ids   taxid  \n",
       "0  gi|6048802|gb|AF098564.1|  100838  \n",
       "1  gi|6048927|gb|AF098620.1|  100838  \n",
       "2  gi|6048903|gb|AF098608.1|  100838  \n",
       "3  gi|6048875|gb|AF098594.1|  100838  \n",
       "4  gi|6048849|gb|AF098581.1|  100838  \n",
       "5  gi|6048829|gb|AF098573.1|  100838  \n",
       "6  gi|6048770|gb|AF098550.1|  100838  \n",
       "7  gi|3421265|gb|AF046100.1|  380304  "
      ]
     },
     "execution_count": 27,
     "metadata": {},
     "output_type": "execute_result"
    }
   ],
   "source": [
    "# here you need a little bit of introspection but can easily obtain the accessions, descriptions, ids\n",
    "accession = [summary[s]['accessionversion'] for s in uids]\n",
    "description = [summary[s]['organism'] for s in uids]\n",
    "id_ = [summary[s]['extra'] for s in uids]\n",
    "taxid = [summary[s]['taxid'] for s in uids]\n",
    "\n",
    "\n",
    "pd.DataFrame({'accession':accession, 'description': description, 'ids':id_,'taxid':taxid})\n",
    "    "
   ]
  },
  {
   "cell_type": "code",
   "execution_count": 33,
   "metadata": {
    "collapsed": false
   },
   "outputs": [
    {
     "data": {
      "text/plain": [
       "b'>gi|6048802|gb|AF098564.1| Influenza A virus (A/Chicken/Hong Kong/915/97 (H5N1)) M1 matrix protein (M) and M2 matrix protein (M) genes, partial cds\\nAGTCTTCTAACCGAGGTCGAAACGTACGTTCTCTCTATCGTCCCATCAGGCCCCCTCAAAGCCGAGATCG\\nCGCAGAGACTTGAGGATGTTTTTGCAGGGAAGAACACAGATCTTGAGGCTCTCATGGAATGGCTAAAGAC\\nAAGACCAATCCTGTCACCTCTGACTAAGGGAATTTTAGGGTTTGTGTTCACGCTCACCGTGCCCAGTGAG\\nCGAGGACTGCAGCGTAGACGATTTGTCCAAAATGCCCTAAATGGGAATGGAGACCCAAACAACATGGACA\\nGGGCAGTTAAACTATACAAGAAGCTAAAGAGGGAAATGACATTCCATGGAGCAAAGGAAGTTGCACTCAG\\nTTACTCAACTGGTGCGCTTGCCAGTTGCATGGGTCTCATATACAATCGGATGGGAACAGTGACCACAGAA\\nGTGGCTCTTGGCCTAGTATGTGCCACTTGTGAGCAGATTGCTGATGCCCAACATCGGTCCCACAGGCAGA\\nTGGCGACTACCACCAACCCACTAATCAGGCATGAGAACAGAATGGTACTGGCCAGCACTACGGCTAAGGC\\nCATGGAACAGATGGCTGGATCAAGTGAGCAAGCAGCAGAAGCCATGGAAGTCGCAAGTCAGGCTAGGCAA\\nATGGTGCAGGCAATGAGGACAATTGGGACTCACCCTAGCTCCAGTGCAGGTCTAAAAGATGATCTTATTG\\nAAAATTTGCAGGCTTACCAGAAACGGATGGGGGTGCAGATGCAGCGATTCAAGTGATCCTCTCGTTGTTG\\nCAGCAAGTATCATTGGGATATTGCACTTGATATTGTGGATTCTTGATCGTCTTTTCTTCAAATGCATCTA\\nTCGTCGCTTTAAATACGGTTTGAAAAGAGGGCCTCCTACGGAAGGAGTGCTTGAGTCTATGAGGGAAGAG\\nTATCGGCAGGAACAGCAGAATGCTGTGGATGTTGACGATGGTCATTTTGTCAACATAGAGCT\\n\\n'"
      ]
     },
     "execution_count": 33,
     "metadata": {},
     "output_type": "execute_result"
    }
   ],
   "source": [
    "sequence = e.EFetch('nuccore', uids[0], rettype='fasta', retmode='text', WebEnv=report.webenv, query_key=report.querykey)\n",
    "sequence"
   ]
  },
  {
   "cell_type": "markdown",
   "metadata": {},
   "source": [
    "### Using EGQuery to get H5N1 Related-Records in Entrez\n",
    "\n",
    "To see what other Entrez databases contain information about the H5N1 virus, use EGQuery. EGQuery performs a text search across all available Entrez databases and returns the number of hits in each. EGQuery accepts any valid Entrez text query as input through the term parameter."
   ]
  },
  {
   "cell_type": "code",
   "execution_count": 36,
   "metadata": {
    "collapsed": false
   },
   "outputs": [
    {
     "data": {
      "text/plain": [
       "{'Term': 'H5N1 virus',\n",
       " 'eGQueryResult': {'ResultItem': [{'Count': '6458',\n",
       "    'DbName': 'pubmed',\n",
       "    'MenuName': 'PubMed',\n",
       "    'Status': 'Ok'},\n",
       "   {'Count': '9728',\n",
       "    'DbName': 'pmc',\n",
       "    'MenuName': 'PubMed Central',\n",
       "    'Status': 'Ok'},\n",
       "   {'Count': '1', 'DbName': 'mesh', 'MenuName': 'MeSH', 'Status': 'Ok'},\n",
       "   {'Count': '337', 'DbName': 'books', 'MenuName': 'Books', 'Status': 'Ok'},\n",
       "   {'Count': '10',\n",
       "    'DbName': 'pubmedhealth',\n",
       "    'MenuName': 'PubMed Health',\n",
       "    'Status': 'Ok'},\n",
       "   {'Count': '2', 'DbName': 'omim', 'MenuName': 'OMIM', 'Status': 'Ok'},\n",
       "   {'Count': '7',\n",
       "    'DbName': 'ncbisearch',\n",
       "    'MenuName': 'Site Search',\n",
       "    'Status': 'Ok'},\n",
       "   {'Count': '29836',\n",
       "    'DbName': 'nuccore',\n",
       "    'MenuName': 'Nucleotide',\n",
       "    'Status': 'Ok'},\n",
       "   {'Count': '0',\n",
       "    'DbName': 'nucgss',\n",
       "    'MenuName': 'GSS',\n",
       "    'Status': 'Term or Database is not found'},\n",
       "   {'Count': '0',\n",
       "    'DbName': 'nucest',\n",
       "    'MenuName': 'EST',\n",
       "    'Status': 'Term or Database is not found'},\n",
       "   {'Count': '37701',\n",
       "    'DbName': 'protein',\n",
       "    'MenuName': 'Protein',\n",
       "    'Status': 'Ok'},\n",
       "   {'Count': '1', 'DbName': 'genome', 'MenuName': 'Genome', 'Status': 'Ok'},\n",
       "   {'Count': '162',\n",
       "    'DbName': 'structure',\n",
       "    'MenuName': 'Structure',\n",
       "    'Status': 'Ok'},\n",
       "   {'Count': '0',\n",
       "    'DbName': 'taxonomy',\n",
       "    'MenuName': 'Taxonomy',\n",
       "    'Status': 'Term or Database is not found'},\n",
       "   {'Count': '0',\n",
       "    'DbName': 'snp',\n",
       "    'MenuName': 'SNP',\n",
       "    'Status': 'Term or Database is not found'},\n",
       "   {'Count': '0',\n",
       "    'DbName': 'dbvar',\n",
       "    'MenuName': 'dbVar',\n",
       "    'Status': 'Term or Database is not found'},\n",
       "   {'Count': '70', 'DbName': 'gene', 'MenuName': 'Gene', 'Status': 'Ok'},\n",
       "   {'Count': '172', 'DbName': 'sra', 'MenuName': 'SRA', 'Status': 'Ok'},\n",
       "   {'Count': '5',\n",
       "    'DbName': 'biosystems',\n",
       "    'MenuName': 'BioSystems',\n",
       "    'Status': 'Ok'},\n",
       "   {'Count': '655',\n",
       "    'DbName': 'unigene',\n",
       "    'MenuName': 'UniGene',\n",
       "    'Status': 'Ok'},\n",
       "   {'Count': '0',\n",
       "    'DbName': 'cdd',\n",
       "    'MenuName': 'Conserved Domains',\n",
       "    'Status': 'Term or Database is not found'},\n",
       "   {'Count': '0',\n",
       "    'DbName': 'clone',\n",
       "    'MenuName': 'Clone',\n",
       "    'Status': 'Term or Database is not found'},\n",
       "   {'Count': '255', 'DbName': 'popset', 'MenuName': 'PopSet', 'Status': 'Ok'},\n",
       "   {'Count': '33297',\n",
       "    'DbName': 'geoprofiles',\n",
       "    'MenuName': 'GEO Profiles',\n",
       "    'Status': 'Ok'},\n",
       "   {'Count': '121',\n",
       "    'DbName': 'gds',\n",
       "    'MenuName': 'GEO DataSets',\n",
       "    'Status': 'Ok'},\n",
       "   {'Count': '0',\n",
       "    'DbName': 'homologene',\n",
       "    'MenuName': 'HomoloGene',\n",
       "    'Status': 'Term or Database is not found'},\n",
       "   {'Count': '408',\n",
       "    'DbName': 'pccompound',\n",
       "    'MenuName': 'PubChem Compound',\n",
       "    'Status': 'Ok'},\n",
       "   {'Count': '163',\n",
       "    'DbName': 'pcsubstance',\n",
       "    'MenuName': 'PubChem Substance',\n",
       "    'Status': 'Ok'},\n",
       "   {'Count': '878',\n",
       "    'DbName': 'pcassay',\n",
       "    'MenuName': 'PubChem BioAssay',\n",
       "    'Status': 'Ok'},\n",
       "   {'Count': '70',\n",
       "    'DbName': 'nlmcatalog',\n",
       "    'MenuName': 'NLM Catalog',\n",
       "    'Status': 'Ok'},\n",
       "   {'Count': '29', 'DbName': 'probe', 'MenuName': 'Probe', 'Status': 'Ok'},\n",
       "   {'Count': '574', 'DbName': 'gap', 'MenuName': 'dbGaP', 'Status': 'Ok'},\n",
       "   {'Count': '0',\n",
       "    'DbName': 'proteinclusters',\n",
       "    'MenuName': 'Protein Clusters',\n",
       "    'Status': 'Term or Database is not found'},\n",
       "   {'Count': '60',\n",
       "    'DbName': 'bioproject',\n",
       "    'MenuName': 'BioProject',\n",
       "    'Status': 'Ok'},\n",
       "   {'Count': '98',\n",
       "    'DbName': 'biosample',\n",
       "    'MenuName': 'BioSample',\n",
       "    'Status': 'Ok'}]}}"
      ]
     },
     "execution_count": 36,
     "metadata": {},
     "output_type": "execute_result"
    }
   ],
   "source": [
    "results = e.EGQuery(\"H5N1 virus\")"
   ]
  },
  {
   "cell_type": "code",
   "execution_count": 46,
   "metadata": {
    "collapsed": false
   },
   "outputs": [],
   "source": [
    "\n",
    "data = [x['Count'] for x in results['eGQueryResult']['ResultItem'] if int(x['Count'])>0]\n",
    "index = [x['DbName'] for x in results['eGQueryResult']['ResultItem'] if int(x.Count)>0]\n"
   ]
  },
  {
   "cell_type": "code",
   "execution_count": 50,
   "metadata": {
    "collapsed": false
   },
   "outputs": [
    {
     "data": {
      "image/png": "[encoded data removed]",
      "text/plain": [
       "<matplotlib.figure.Figure at 0x7fe36e88bac8>"
      ]
     },
     "metadata": {},
     "output_type": "display_data"
    }
   ],
   "source": [
    "df = pd.DataFrame(data=data, index=index, dtype=float)  # note the cast into floats\n",
    "df.sort_values(0, ascending=True, inplace=True)\n",
    "\n",
    "_ = log10(df).plot(kind='barh', legend=False, logx=False, \n",
    "            title=\"Number of H5N1 entries in each database\")"
   ]
  },
  {
   "cell_type": "code",
   "execution_count": null,
   "metadata": {
    "collapsed": false
   },
   "outputs": [],
   "source": []
  }
 ],
 "metadata": {
  "kernelspec": {
   "display_name": "Python 3",
   "language": "python",
   "name": "python3"
  },
  "language_info": {
   "codemirror_mode": {
    "name": "ipython",
    "version": 3
   },
   "file_extension": ".py",
   "mimetype": "text/x-python",
   "name": "python",
   "nbconvert_exporter": "python",
   "pygments_lexer": "ipython3",
   "version": "3.5.1"
  }
 },
 "nbformat": 4,
 "nbformat_minor": 0
}
