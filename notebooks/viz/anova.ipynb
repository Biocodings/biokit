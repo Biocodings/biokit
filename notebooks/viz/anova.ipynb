{
 "metadata": {
  "name": "",
  "signature": "sha256:9166d411b47b808a16a8455bbb9299819c74c08569d75332d584544a2ac6ab21"
 },
 "nbformat": 3,
 "nbformat_minor": 0,
 "worksheets": [
  {
   "cells": [
    {
     "cell_type": "code",
     "collapsed": false,
     "input": [
      "from biokit import viz"
     ],
     "language": "python",
     "metadata": {},
     "outputs": [],
     "prompt_number": 1
    },
    {
     "cell_type": "code",
     "collapsed": false,
     "input": [
      "%pylab inline"
     ],
     "language": "python",
     "metadata": {},
     "outputs": [
      {
       "output_type": "stream",
       "stream": "stdout",
       "text": [
        "Populating the interactive namespace from numpy and matplotlib\n"
       ]
      }
     ],
     "prompt_number": 2
    },
    {
     "cell_type": "code",
     "collapsed": false,
     "input": [
      "from biokit.viz import anova"
     ],
     "language": "python",
     "metadata": {},
     "outputs": [],
     "prompt_number": 3
    },
    {
     "cell_type": "code",
     "collapsed": false,
     "input": [
      "import pandas as pd\n",
      "\n",
      "X = random.random(100)\n",
      "\n",
      "df = pd.DataFrame({'A':X, 'B': X + X/10, \n",
      "                   'C': X + random.random(100), \n",
      "                   'D': X + random.random(100)})"
     ],
     "language": "python",
     "metadata": {},
     "outputs": [],
     "prompt_number": 4
    },
    {
     "cell_type": "code",
     "collapsed": false,
     "input": [
      "an = anova.ANOVA(df)"
     ],
     "language": "python",
     "metadata": {},
     "outputs": [],
     "prompt_number": 5
    },
    {
     "cell_type": "code",
     "collapsed": false,
     "input": [
      "an.imshow_anova_pairs()"
     ],
     "language": "python",
     "metadata": {},
     "outputs": [
      {
       "output_type": "stream",
       "stream": "stdout",
       "text": [
        "Deprecated. Use Imshow instead\n"
       ]
      },
      {
       "html": [
        "<div style=\"max-height:1000px;max-width:1500px;overflow:auto;\">\n",
        "<table border=\"1\" class=\"dataframe\">\n",
        "  <thead>\n",
        "    <tr style=\"text-align: right;\">\n",
        "      <th></th>\n",
        "      <th>A</th>\n",
        "      <th>B</th>\n",
        "      <th>C</th>\n",
        "      <th>D</th>\n",
        "    </tr>\n",
        "  </thead>\n",
        "  <tbody>\n",
        "    <tr>\n",
        "      <th>A</th>\n",
        "      <td>1.000000e+00</td>\n",
        "      <td>2.884887e-01</td>\n",
        "      <td>1.119195e-21</td>\n",
        "      <td>6.921410e-18</td>\n",
        "    </tr>\n",
        "    <tr>\n",
        "      <th>B</th>\n",
        "      <td>2.884887e-01</td>\n",
        "      <td>1.000000e+00</td>\n",
        "      <td>1.063330e-17</td>\n",
        "      <td>2.991827e-14</td>\n",
        "    </tr>\n",
        "    <tr>\n",
        "      <th>C</th>\n",
        "      <td>1.119195e-21</td>\n",
        "      <td>1.063330e-17</td>\n",
        "      <td>1.000000e+00</td>\n",
        "      <td>2.593957e-01</td>\n",
        "    </tr>\n",
        "    <tr>\n",
        "      <th>D</th>\n",
        "      <td>6.921410e-18</td>\n",
        "      <td>2.991827e-14</td>\n",
        "      <td>2.593957e-01</td>\n",
        "      <td>9.999995e-01</td>\n",
        "    </tr>\n",
        "  </tbody>\n",
        "</table>\n",
        "</div>"
       ],
       "metadata": {},
       "output_type": "pyout",
       "prompt_number": 6,
       "text": [
        "              A             B             C             D\n",
        "A  1.000000e+00  2.884887e-01  1.119195e-21  6.921410e-18\n",
        "B  2.884887e-01  1.000000e+00  1.063330e-17  2.991827e-14\n",
        "C  1.119195e-21  1.063330e-17  1.000000e+00  2.593957e-01\n",
        "D  6.921410e-18  2.991827e-14  2.593957e-01  9.999995e-01"
       ]
      },
      {
       "metadata": {},
       "output_type": "display_data",
       "png": "[encoded data removed]",
       "text": [
        "<matplotlib.figure.Figure at 0x4eff3d0>"
       ]
      }
     ],
     "prompt_number": 6
    },
    {
     "cell_type": "code",
     "collapsed": false,
     "input": [],
     "language": "python",
     "metadata": {},
     "outputs": []
    }
   ],
   "metadata": {}
  }
 ]
}